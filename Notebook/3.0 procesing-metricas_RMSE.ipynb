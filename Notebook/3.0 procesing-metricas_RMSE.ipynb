{
 "cells": [
  {
   "cell_type": "code",
   "execution_count": 1,
   "metadata": {},
   "outputs": [],
   "source": [
    "import numpy as np # linear algebra\n",
    "import pandas as pd # data processing, CSV file I/O (e.g. pd.read_csv)\n",
    "import ast # para la transformacion de str a array\n",
    "\n",
    "from PIL import Image #\n",
    "import re\n",
    "import pandasql as sql # para trabajar con los datasets\n",
    "from tqdm import tqdm # barra de progreso\n",
    "\n",
    "\n",
    "from sklearn.preprocessing import MinMaxScaler # para llevar los valores de 0 a 1 no sirvio es complicado de usar"
   ]
  },
  {
   "cell_type": "markdown",
   "metadata": {},
   "source": [
    "## recuperamos informacion de los arrays de la imagenes:"
   ]
  },
  {
   "cell_type": "code",
   "execution_count": 2,
   "metadata": {},
   "outputs": [],
   "source": [
    "# funcion para importar dataset pick\n",
    "def unpickle(file):\n",
    "    import pickle\n",
    "    with open(file, 'rb') as fo:\n",
    "        dict = pickle.load(fo, encoding='bytes')\n",
    "    return dict\n",
    "\n",
    "# funcion sql\n",
    "def sql_query(query):\n",
    "    q=sql.sqldf\n",
    "    consulta=q(query,globals())\n",
    "    return consulta"
   ]
  },
  {
   "cell_type": "code",
   "execution_count": 3,
   "metadata": {},
   "outputs": [],
   "source": [
    "dataset_humano_respuestas_completo=pd.read_csv(\"/home/angel/Desktop/Escritorio/UCM/TFM/trabajo_local/dataset_humano_respuestas_completo.csv\",index_col='indice_2')\n",
    "dataset_animal_respuestas_completo=pd.read_csv(\"/home/angel/Desktop/Escritorio/UCM/TFM/trabajo_local/dataset_animal_respuestas_completo.csv\",index_col='indice_2')\n",
    "dataset_objeto_respuestas_completo=pd.read_csv(\"/home/angel/Desktop/Escritorio/UCM/TFM/trabajo_local/dataset_objeto_respuestas_completo.csv\",index_col='indice_2')\n",
    "dataset_paisaje_respuestas_completo=pd.read_csv(\"/home/angel/Desktop/Escritorio/UCM/TFM/trabajo_local/dataset_paisaje_respuestas_completo.csv\",index_col='indice_2')\n",
    "\n",
    "dataset_humano_cifar=unpickle('/home/angel/Desktop/Escritorio/UCM/TFM/trabajo_local/dataset_humano_cifar_250_v4_29_06_2024.pickle')\n",
    "dataset_animal_cifar=unpickle('/home/angel/Desktop/Escritorio/UCM/TFM/trabajo_local/dataset_animal_cifar_250_v3_29_06_2024.pickle')\n",
    "dataset_objeto_cifar=unpickle('/home/angel/Desktop/Escritorio/UCM/TFM/trabajo_local/dataset_objeto_cifar_250_v3_29_06_2024.pickle')\n",
    "dataset_paisaje_cifar=unpickle('/home/angel/Desktop/Escritorio/UCM/TFM/trabajo_local/dataset_paisaje_cifar_250_v3_29_06_2024.pickle')"
   ]
  },
  {
   "cell_type": "code",
   "execution_count": 4,
   "metadata": {},
   "outputs": [],
   "source": [
    "import json\n",
    "\n",
    "def preservar_formato(x):\n",
    "    return json.dumps(x.tolist())\n",
    "\n",
    "dataset_humano_cifar['indice_2']=dataset_humano_cifar.index\n",
    "dataset_humano_cifar['data_lista']=dataset_humano_cifar[b'data'].apply(preservar_formato)\n",
    "\n",
    "dataset_animal_cifar['indice_2']=dataset_animal_cifar.index\n",
    "dataset_animal_cifar['data_lista']=dataset_animal_cifar[b'data'].apply(preservar_formato)\n",
    "\n",
    "dataset_objeto_cifar['indice_2']=dataset_objeto_cifar.index\n",
    "dataset_objeto_cifar['data_lista']=dataset_objeto_cifar[b'data'].apply(preservar_formato)\n",
    "\n",
    "dataset_paisaje_cifar['indice_2']=dataset_paisaje_cifar.index\n",
    "dataset_paisaje_cifar['data_lista']=dataset_paisaje_cifar[b'data'].apply(preservar_formato)"
   ]
  },
  {
   "cell_type": "code",
   "execution_count": 5,
   "metadata": {},
   "outputs": [],
   "source": [
    "query_humano_recovery_image_bytes='''\n",
    "SELECT dataset_humano_respuestas_completo.*, dataset_humano_cifar.data_lista FROM dataset_humano_respuestas_completo, dataset_humano_cifar\n",
    "WHERE dataset_humano_respuestas_completo.indice_2=dataset_humano_cifar.indice_2\n",
    "'''\n",
    "\n",
    "query_animal_recovery_image_bytes='''\n",
    "SELECT dataset_animal_respuestas_completo.*, dataset_animal_cifar.data_lista FROM dataset_animal_respuestas_completo, dataset_animal_cifar\n",
    "WHERE dataset_animal_respuestas_completo.indice_2=dataset_animal_cifar.indice_2\n",
    "'''\n",
    "\n",
    "query_objeto_recovery_image_bytes='''\n",
    "SELECT dataset_objeto_respuestas_completo.*, dataset_objeto_cifar.data_lista FROM dataset_objeto_respuestas_completo, dataset_objeto_cifar\n",
    "WHERE dataset_objeto_respuestas_completo.indice_2=dataset_objeto_cifar.indice_2\n",
    "'''\n",
    "\n",
    "query_paisaje_recovery_image_bytes='''\n",
    "SELECT dataset_paisaje_respuestas_completo.*, dataset_paisaje_cifar.data_lista FROM dataset_paisaje_respuestas_completo, dataset_paisaje_cifar\n",
    "WHERE dataset_paisaje_respuestas_completo.indice_2=dataset_paisaje_cifar.indice_2\n",
    "'''\n",
    "\n",
    "dataset_humano_respuestas_completo_bytes_reparado=sql_query(query_humano_recovery_image_bytes)\n",
    "\n",
    "dataset_animal_respuestas_completo_bytes_reparado=sql_query(query_animal_recovery_image_bytes)\n",
    "\n",
    "dataset_objeto_respuestas_completo_bytes_reparado=sql_query(query_objeto_recovery_image_bytes)\n",
    "\n",
    "dataset_paisaje_respuestas_completo_bytes_reparado=sql_query(query_paisaje_recovery_image_bytes)"
   ]
  },
  {
   "cell_type": "code",
   "execution_count": 6,
   "metadata": {},
   "outputs": [],
   "source": [
    "def recuperar_data_array(x): # esto es necesario para que el string que contiene la imagen se interprete de forma correcta como una estructura de datos y poder acceder a los bytes\n",
    "    return np.array(json.loads(x),dtype=np.uint8) \n",
    "\n",
    "dataset_humano_respuestas_completo_bytes_reparado['data_lista']= dataset_humano_respuestas_completo_bytes_reparado['data_lista'].apply(recuperar_data_array)\n",
    "\n",
    "\n",
    "dataset_animal_respuestas_completo_bytes_reparado['data_lista']= dataset_animal_respuestas_completo_bytes_reparado['data_lista'].apply(recuperar_data_array)\n",
    "\n",
    "\n",
    "dataset_objeto_respuestas_completo_bytes_reparado['data_lista']= dataset_objeto_respuestas_completo_bytes_reparado['data_lista'].apply(recuperar_data_array)\n",
    "\n",
    "\n",
    "dataset_paisaje_respuestas_completo_bytes_reparado['data_lista']= dataset_paisaje_respuestas_completo_bytes_reparado['data_lista'].apply(recuperar_data_array)"
   ]
  },
  {
   "cell_type": "code",
   "execution_count": 7,
   "metadata": {},
   "outputs": [],
   "source": [
    "### resetear index\n",
    "dataset_humano_respuestas_completo_bytes_reparado.set_index(dataset_humano_respuestas_completo_bytes_reparado['indice_2'],inplace=True)\n",
    "dataset_humano_respuestas_completo_bytes_reparado = dataset_humano_respuestas_completo_bytes_reparado.rename(columns={'indice_2': 'indice_main'})\n",
    "\n",
    "### resetear index animal\n",
    "dataset_animal_respuestas_completo_bytes_reparado.set_index(dataset_animal_respuestas_completo_bytes_reparado['indice_2'],inplace=True)\n",
    "dataset_animal_respuestas_completo_bytes_reparado = dataset_animal_respuestas_completo_bytes_reparado.rename(columns={'indice_2': 'indice_main'})\n",
    "\n",
    "### resetear index objeto\n",
    "dataset_objeto_respuestas_completo_bytes_reparado.set_index(dataset_objeto_respuestas_completo_bytes_reparado['indice_2'],inplace=True)\n",
    "dataset_objeto_respuestas_completo_bytes_reparado = dataset_objeto_respuestas_completo_bytes_reparado.rename(columns={'indice_2': 'indice_main'})\n",
    "\n",
    "### resetear index paisaje\n",
    "dataset_paisaje_respuestas_completo_bytes_reparado.set_index(dataset_paisaje_respuestas_completo_bytes_reparado['indice_2'],inplace=True)\n",
    "dataset_paisaje_respuestas_completo_bytes_reparado = dataset_paisaje_respuestas_completo_bytes_reparado.rename(columns={'indice_2': 'indice_main'})"
   ]
  },
  {
   "cell_type": "markdown",
   "metadata": {},
   "source": [
    " ### Comenzamos el pre-procesamiento de las salidas de dataseet de las distintas metricas"
   ]
  },
  {
   "cell_type": "markdown",
   "metadata": {},
   "source": [
    "### Dataset Filtros 1"
   ]
  },
  {
   "cell_type": "markdown",
   "metadata": {},
   "source": [
    "### Texto"
   ]
  },
  {
   "cell_type": "markdown",
   "metadata": {},
   "source": [
    "##### Bag"
   ]
  },
  {
   "cell_type": "code",
   "execution_count": 18,
   "metadata": {},
   "outputs": [],
   "source": [
    "salida_animal_bag=pd.read_csv('Filtro_1/Texto/output_bag/salida_animal_bag_3.csv')\n",
    "salida_humano_bag=pd.read_csv('Filtro_1/Texto/output_bag/salida_humano_bag_3.csv')\n",
    "salida_objeto_bag=pd.read_csv('Filtro_1/Texto/output_bag/salida_objeto_bag_3.csv')\n",
    "salida_paisaje_bag=pd.read_csv('Filtro_1/Texto/output_bag/salida_paisaje_bag_3.csv')"
   ]
  },
  {
   "cell_type": "markdown",
   "metadata": {},
   "source": [
    "#### Cosine"
   ]
  },
  {
   "cell_type": "code",
   "execution_count": 19,
   "metadata": {},
   "outputs": [],
   "source": [
    "salida_animal_cosine=pd.read_csv('Filtro_1/Texto/output_cosine/salida_animal_cosine_3.csv')\n",
    "salida_humano_cosine=pd.read_csv('Filtro_1/Texto/output_cosine/salida_humano_cosine_3.csv')\n",
    "salida_objeto_cosine=pd.read_csv('Filtro_1/Texto/output_cosine/salida_objeto_cosine_3.csv')\n",
    "salida_paisaje_cosine=pd.read_csv('Filtro_1/Texto/output_cosine/salida_paisaje_cosine_3.csv')"
   ]
  },
  {
   "cell_type": "markdown",
   "metadata": {},
   "source": [
    "#### Jaccard"
   ]
  },
  {
   "cell_type": "code",
   "execution_count": 20,
   "metadata": {},
   "outputs": [],
   "source": [
    "salida_animal_jaccard=pd.read_csv('Filtro_1/Texto/output_jaccard/salida_animal_jaccard_3.csv')\n",
    "salida_humano_jaccard=pd.read_csv('Filtro_1/Texto/output_jaccard/salida_humano_jaccard_3.csv')\n",
    "salida_objeto_jaccard=pd.read_csv('Filtro_1/Texto/output_jaccard/salida_objeto_jaccard_3.csv')\n",
    "salida_paisaje_jaccard=pd.read_csv('Filtro_1/Texto/output_jaccard/salida_paisaje_jaccard_3.csv')"
   ]
  },
  {
   "cell_type": "markdown",
   "metadata": {},
   "source": [
    "#### Levenshtein"
   ]
  },
  {
   "cell_type": "code",
   "execution_count": 21,
   "metadata": {},
   "outputs": [],
   "source": [
    "salida_animal_levenshtein=pd.read_csv('Filtro_1/Texto/output_levestehin/salida_prueba_animal_3.csv')\n",
    "salida_humano_levenshtein=pd.read_csv('Filtro_1/Texto/output_levestehin/salida_prueba_humano_3.csv')\n",
    "salida_objeto_levenshtein=pd.read_csv('Filtro_1/Texto/output_levestehin/salida_prueba_objeto_3.csv')\n",
    "salida_paisaje_levenshtein=pd.read_csv('Filtro_1/Texto/output_levestehin/salida_prueba_paisaje_3.csv')"
   ]
  },
  {
   "cell_type": "markdown",
   "metadata": {},
   "source": [
    "#### Overlap"
   ]
  },
  {
   "cell_type": "code",
   "execution_count": 22,
   "metadata": {},
   "outputs": [],
   "source": [
    "salida_animal_overlap=pd.read_csv('Filtro_1/Texto/output_overlap/salida_animal_overlap_3.csv')\n",
    "salida_humano_overlap=pd.read_csv('Filtro_1/Texto/output_overlap/salida_humano_overlap_3.csv')\n",
    "salida_objeto_overlap=pd.read_csv('Filtro_1/Texto/output_overlap/salida_objeto_overlap_3.csv')\n",
    "salida_paisaje_overlap=pd.read_csv('Filtro_1/Texto/output_overlap/salida_paisaje_overlap_3.csv')"
   ]
  },
  {
   "cell_type": "markdown",
   "metadata": {},
   "source": [
    "### Semantica"
   ]
  },
  {
   "cell_type": "markdown",
   "metadata": {},
   "source": [
    "#### Sbert"
   ]
  },
  {
   "cell_type": "code",
   "execution_count": 23,
   "metadata": {},
   "outputs": [],
   "source": [
    "salida_animal_sbert=pd.read_csv('Filtro_1/semantica/sbert/df_resultado_animal_sbert_3.csv')\n",
    "salida_humano_sbert=pd.read_csv('Filtro_1/semantica/sbert/df_resultado_humano_sbert_3.csv')\n",
    "salida_objeto_sbert=pd.read_csv('Filtro_1/semantica/sbert/df_resultado_objeto_sbert_3.csv')\n",
    "salida_paisaje_sbert=pd.read_csv('Filtro_1/semantica/sbert/df_resultado_paisaje_sbert_3.csv')"
   ]
  },
  {
   "cell_type": "markdown",
   "metadata": {},
   "source": [
    "#### Web_similitary"
   ]
  },
  {
   "cell_type": "code",
   "execution_count": 24,
   "metadata": {},
   "outputs": [],
   "source": [
    "salida_animal_web_similitary=pd.read_csv('Filtro_1/semantica/web_similiraty/df_resultado_animal_similarity_3.csv')\n",
    "salida_humano_web_similitary=pd.read_csv('Filtro_1/semantica/web_similiraty/df_resultado_humano_similarity_3.csv')\n",
    "salida_objeto_web_similitary=pd.read_csv('Filtro_1/semantica/web_similiraty/df_resultado_objeto_similarity_3.csv')\n",
    "salida_paisaje_web_similitary=pd.read_csv('Filtro_1/semantica/web_similiraty/df_resultado_paisaje_similarity_3.csv')"
   ]
  },
  {
   "cell_type": "markdown",
   "metadata": {},
   "source": [
    "#### Pixel_to_pixel"
   ]
  },
  {
   "cell_type": "code",
   "execution_count": 25,
   "metadata": {},
   "outputs": [],
   "source": [
    "salida_animal_pixel_to_pixel=pd.read_csv('Filtro_1/pixel_to_pixel/df_resultado_animal_pixel_to_pixel_v2_3.csv')\n",
    "salida_humano_pixel_to_pixel=pd.read_csv('Filtro_1/pixel_to_pixel/df_resultado_humano_pixel_to_pixel_v2_3.csv')\n",
    "salida_objeto_pixel_to_pixel=pd.read_csv('Filtro_1/pixel_to_pixel/df_resultado_objeto_pixel_to_pixel_v2_3.csv')\n",
    "salida_paisaje_pixel_to_pixel=pd.read_csv('Filtro_1/pixel_to_pixel/df_resultado_paisaje_pixel_to_pixel_v2_3.csv')"
   ]
  },
  {
   "cell_type": "markdown",
   "metadata": {},
   "source": [
    "### Dataset Filtros 2"
   ]
  },
  {
   "cell_type": "markdown",
   "metadata": {},
   "source": [
    "### Texto"
   ]
  },
  {
   "cell_type": "markdown",
   "metadata": {},
   "source": [
    "#### Bag"
   ]
  },
  {
   "cell_type": "code",
   "execution_count": 26,
   "metadata": {},
   "outputs": [],
   "source": [
    "salida_animal_bag_filtro_2=pd.read_csv('Filtro_2/Texto/output_bag/df_resultado_animal_bag_filtro_2_3.csv')\n",
    "salida_humano_bag_filtro_2=pd.read_csv('Filtro_2/Texto/output_bag/df_resultado_humano_bag_filtro_2_3.csv')\n",
    "salida_objeto_bag_filtro_2=pd.read_csv('Filtro_2/Texto/output_bag/df_resultado_objeto_bag_filtro_2_3.csv')\n",
    "salida_paisaje_bag_filtro_2=pd.read_csv('Filtro_2/Texto/output_bag/df_resultado_paisaje_bag_filtro_2_3.csv')"
   ]
  },
  {
   "cell_type": "markdown",
   "metadata": {},
   "source": [
    "#### Cosine"
   ]
  },
  {
   "cell_type": "code",
   "execution_count": 27,
   "metadata": {},
   "outputs": [],
   "source": [
    "salida_animal_cosine_filtro_2=pd.read_csv('Filtro_2/Texto/output_cosine/df_resultado_animal_cosine_filtro_2_3.csv')\n",
    "salida_humano_cosine_filtro_2=pd.read_csv('Filtro_2/Texto/output_cosine/df_resultado_humano_cosine_filtro_2_3.csv')\n",
    "salida_objeto_cosine_filtro_2=pd.read_csv('Filtro_2/Texto/output_cosine/df_resultado_objeto_cosine_filtro_2_3.csv')\n",
    "salida_paisaje_cosine_filtro_2=pd.read_csv('Filtro_2/Texto/output_cosine/df_resultado_paisaje_cosine_filtro_2_3.csv')"
   ]
  },
  {
   "cell_type": "markdown",
   "metadata": {},
   "source": [
    "#### Jaccard"
   ]
  },
  {
   "cell_type": "code",
   "execution_count": 28,
   "metadata": {},
   "outputs": [],
   "source": [
    "salida_animal_jaccard_filtro_2=pd.read_csv('Filtro_2/Texto/output_jaccard/df_resultado_animal_jaccard_filtro_2_3.csv')\n",
    "salida_humano_jaccard_filtro_2=pd.read_csv('Filtro_2/Texto/output_jaccard/df_resultado_humano_jaccard_filtro_2_3.csv')\n",
    "salida_objeto_jaccard_filtro_2=pd.read_csv('Filtro_2/Texto/output_jaccard/df_resultado_objeto_jaccard_filtro_2_3.csv')\n",
    "salida_paisaje_jaccard_filtro_2=pd.read_csv('Filtro_2/Texto/output_jaccard/df_resultado_paisaje_jaccard_filtro_2_3.csv')"
   ]
  },
  {
   "cell_type": "markdown",
   "metadata": {},
   "source": [
    "#### Levenshtein"
   ]
  },
  {
   "cell_type": "code",
   "execution_count": 29,
   "metadata": {},
   "outputs": [],
   "source": [
    "salida_animal_levenshtein_filtro_2=pd.read_csv('Filtro_2/Texto/output_levestehin/df_resultado_animal_levestein_filtro_2_3.csv')\n",
    "salida_humano_levenshtein_filtro_2=pd.read_csv('Filtro_2/Texto/output_levestehin/df_resultado_humano_levestein_filtro_2_3.csv')\n",
    "salida_objeto_levenshtein_filtro_2=pd.read_csv('Filtro_2/Texto/output_levestehin/df_resultado_objeto_levestein_filtro_2_3.csv')\n",
    "salida_paisaje_levenshtein_filtro_2=pd.read_csv('Filtro_2/Texto/output_levestehin/df_resultado_paisaje_levestein_filtro_2_3.csv')"
   ]
  },
  {
   "cell_type": "markdown",
   "metadata": {},
   "source": [
    "#### Overlap"
   ]
  },
  {
   "cell_type": "code",
   "execution_count": 30,
   "metadata": {},
   "outputs": [],
   "source": [
    "salida_animal_overlap_filtro_2=pd.read_csv('Filtro_2/Texto/output_overlap/df_resultado_animal_overlap_filtro_2_3.csv')\n",
    "salida_humano_overlap_filtro_2=pd.read_csv('Filtro_2/Texto/output_overlap/df_resultado_humano_overlap_filtro_2_3.csv')\n",
    "salida_objeto_overlap_filtro_2=pd.read_csv('Filtro_2/Texto/output_overlap/df_resultado_objeto_overlap_filtro_2_3.csv')\n",
    "salida_paisaje_overlap_filtro_2=pd.read_csv('Filtro_2/Texto/output_overlap/df_resultado_paisaje_overlap_filtro_2_3.csv')\n"
   ]
  },
  {
   "cell_type": "markdown",
   "metadata": {},
   "source": [
    "### Semantica"
   ]
  },
  {
   "cell_type": "markdown",
   "metadata": {},
   "source": [
    "### Sbert"
   ]
  },
  {
   "cell_type": "code",
   "execution_count": 31,
   "metadata": {},
   "outputs": [],
   "source": [
    "salida_animal_sbert_filtro_2=pd.read_csv('Filtro_2/semantica/sbert/df_resultado_animal_sbert_filtro2_3.csv') \n",
    "salida_humano_sbert_filtro_2=pd.read_csv('Filtro_2/semantica/sbert/df_resultado_humano_sbert_filtro2_3.csv')\n",
    "salida_objeto_sbert_filtro_2=pd.read_csv('Filtro_2/semantica/sbert/df_resultado_objeto_sbert_filtro2_3.csv')\n",
    "salida_paisaje_sbert_filtro_2=pd.read_csv('Filtro_2/semantica/sbert/df_resultado_paisaje_sbert_filtro2_3.csv')"
   ]
  },
  {
   "cell_type": "markdown",
   "metadata": {},
   "source": [
    "#### Web similitary"
   ]
  },
  {
   "cell_type": "code",
   "execution_count": 32,
   "metadata": {},
   "outputs": [],
   "source": [
    "salida_animal_web_similitary_filtro_2=pd.read_csv('Filtro_2/semantica/similarity/df_resultado_animal_similarity_filtro2_3.csv')\n",
    "salida_humano_web_similitary_filtro_2=pd.read_csv('Filtro_2/semantica/similarity/df_resultado_humano_similarity_filtro2_3.csv')\n",
    "salida_objeto_web_similitary_filtro_2=pd.read_csv('Filtro_2/semantica/similarity/df_resultado_objeto_similarity_filtro2_3.csv')\n",
    "salida_paisaje_web_similitary_filtro_2=pd.read_csv('Filtro_2/semantica/similarity/df_resultado_paisaje_similarity_filtro2_3.csv')"
   ]
  },
  {
   "cell_type": "markdown",
   "metadata": {},
   "source": [
    "### pixel_to_pixel"
   ]
  },
  {
   "cell_type": "code",
   "execution_count": 33,
   "metadata": {},
   "outputs": [],
   "source": [
    "salida_animal_pixel_to_pixel_filtro_2=pd.read_csv('Filtro_2/pixel_to_pixel/df_resultado_animal_pixel_to_pixel_filtro_2_v2_3.csv')\n",
    "salida_humano_pixel_to_pixel_filtro_2=pd.read_csv('Filtro_2/pixel_to_pixel/df_resultado_humano_pixel_to_pixel_filtro_2_v2_3.csv')\n",
    "salida_objeto_pixel_to_pixel_filtro_2=pd.read_csv('Filtro_2/pixel_to_pixel/df_resultado_objeto_pixel_to_pixel_filtro_2_v2_3.csv')\n",
    "salida_paisaje_pixel_to_pixel_filtro_2=pd.read_csv('Filtro_2/pixel_to_pixel/df_resultado_paisaje_pixel_to_pixel_filtro_2_v2_3.csv')"
   ]
  },
  {
   "cell_type": "code",
   "execution_count": 34,
   "metadata": {},
   "outputs": [],
   "source": [
    "'''Diccionario de datasets filtro 1'''\n",
    "diccionario_datasets_filtro_1 = {\n",
    "    'salida_animal_bag': salida_animal_bag,\n",
    "    'salida_humano_bag': salida_humano_bag,\n",
    "    'salida_objeto_bag': salida_objeto_bag,\n",
    "    'salida_paisaje_bag': salida_paisaje_bag,\n",
    "\n",
    "    'salida_animal_cosine': salida_animal_cosine,\n",
    "    'salida_humano_cosine': salida_humano_cosine,\n",
    "    'salida_objeto_cosine': salida_objeto_cosine,\n",
    "    'salida_paisaje_cosine': salida_paisaje_cosine,\n",
    "\n",
    "    'salida_animal_jaccard': salida_animal_jaccard,\n",
    "    'salida_humano_jaccard': salida_humano_jaccard,\n",
    "    'salida_objeto_jaccard': salida_objeto_jaccard,\n",
    "    'salida_paisaje_jaccard': salida_paisaje_jaccard,\n",
    "\n",
    "    'salida_animal_levenshtein': salida_animal_levenshtein,\n",
    "    'salida_humano_levenshtein': salida_humano_levenshtein,\n",
    "    'salida_objeto_levenshtein': salida_objeto_levenshtein,\n",
    "    'salida_paisaje_levenshtein': salida_paisaje_levenshtein,\n",
    "\n",
    "    'salida_animal_overlap': salida_animal_overlap,\n",
    "    'salida_humano_overlap': salida_humano_overlap,\n",
    "    'salida_objeto_overlap': salida_objeto_overlap,\n",
    "    'salida_paisaje_overlap': salida_paisaje_overlap,\n",
    "\n",
    "    'salida_animal_sbert': salida_animal_sbert,\n",
    "    'salida_humano_sbert': salida_humano_sbert,\n",
    "    'salida_objeto_sbert': salida_objeto_sbert,\n",
    "    'salida_paisaje_sbert': salida_paisaje_sbert,\n",
    "\n",
    "    'salida_animal_web_similitary': salida_animal_web_similitary,\n",
    "    'salida_humano_web_similitary': salida_humano_web_similitary,\n",
    "    'salida_objeto_web_similitary': salida_objeto_web_similitary,\n",
    "    'salida_paisaje_web_similitary': salida_paisaje_web_similitary,\n",
    "\n",
    "    'salida_animal_pixel_to_pixel': salida_animal_pixel_to_pixel,\n",
    "    'salida_humano_pixel_to_pixel': salida_humano_pixel_to_pixel,\n",
    "    'salida_objeto_pixel_to_pixel': salida_objeto_pixel_to_pixel,\n",
    "    'salida_paisaje_pixel_to_pixel': salida_paisaje_pixel_to_pixel\n",
    "}\n",
    "\n",
    "\n",
    "diccionario_datasets_filtro_2 = {\n",
    "    'salida_animal_bag_filtro_2': salida_animal_bag_filtro_2,\n",
    "    'salida_humano_bag_filtro_2': salida_humano_bag_filtro_2,\n",
    "    'salida_objeto_bag_filtro_2': salida_objeto_bag_filtro_2,\n",
    "    'salida_paisaje_bag_filtro_2': salida_paisaje_bag_filtro_2,\n",
    "\n",
    "    'salida_animal_cosine_filtro_2': salida_animal_cosine_filtro_2,\n",
    "    'salida_humano_cosine_filtro_2': salida_humano_cosine_filtro_2,\n",
    "    'salida_objeto_cosine_filtro_2': salida_objeto_cosine_filtro_2,\n",
    "    'salida_paisaje_cosine_filtro_2': salida_paisaje_cosine_filtro_2,\n",
    "\n",
    "    'salida_animal_jaccard_filtro_2': salida_animal_jaccard_filtro_2,\n",
    "    'salida_humano_jaccard_filtro_2': salida_humano_jaccard_filtro_2,\n",
    "    'salida_objeto_jaccard_filtro_2': salida_objeto_jaccard_filtro_2,\n",
    "    'salida_paisaje_jaccard_filtro_2': salida_paisaje_jaccard_filtro_2,\n",
    "\n",
    "    'salida_animal_levenshtein_filtro_2': salida_animal_levenshtein_filtro_2,\n",
    "    'salida_humano_levenshtein_filtro_2': salida_humano_levenshtein_filtro_2,\n",
    "    'salida_objeto_levenshtein_filtro_2': salida_objeto_levenshtein_filtro_2,\n",
    "    'salida_paisaje_levenshtein_filtro_2': salida_paisaje_levenshtein_filtro_2,\n",
    "\n",
    "    'salida_animal_overlap_filtro_2': salida_animal_overlap_filtro_2,\n",
    "    'salida_humano_overlap_filtro_2': salida_humano_overlap_filtro_2,\n",
    "    'salida_objeto_overlap_filtro_2': salida_objeto_overlap_filtro_2,\n",
    "    'salida_paisaje_overlap_filtro_2': salida_paisaje_overlap_filtro_2,\n",
    "\n",
    "    'salida_animal_sbert_filtro_2': salida_animal_sbert_filtro_2,\n",
    "    'salida_humano_sbert_filtro_2': salida_humano_sbert_filtro_2,\n",
    "    'salida_objeto_sbert_filtro_2': salida_objeto_sbert_filtro_2,\n",
    "    'salida_paisaje_sbert_filtro_2': salida_paisaje_sbert_filtro_2,\n",
    "\n",
    "    'salida_animal_web_similitary_filtro_2': salida_animal_web_similitary_filtro_2,\n",
    "    'salida_humano_web_similitary_filtro_2': salida_humano_web_similitary_filtro_2,\n",
    "    'salida_objeto_web_similitary_filtro_2': salida_objeto_web_similitary_filtro_2,\n",
    "    'salida_paisaje_web_similitary_filtro_2': salida_paisaje_web_similitary_filtro_2,\n",
    "\n",
    "    'salida_animal_pixel_to_pixel_filtro_2': salida_animal_pixel_to_pixel_filtro_2,\n",
    "    'salida_humano_pixel_to_pixel_filtro_2': salida_humano_pixel_to_pixel_filtro_2,\n",
    "    'salida_objeto_pixel_to_pixel_filtro_2': salida_objeto_pixel_to_pixel_filtro_2,\n",
    "    'salida_paisaje_pixel_to_pixel_filtro_2': salida_paisaje_pixel_to_pixel_filtro_2\n",
    "}\n"
   ]
  },
  {
   "cell_type": "markdown",
   "metadata": {},
   "source": [
    "# Eliminar aquellas filas 6666 que no valen para los averages"
   ]
  },
  {
   "cell_type": "code",
   "execution_count": 35,
   "metadata": {},
   "outputs": [],
   "source": [
    "# Filtros 1\n",
    "for nombre_dataset in diccionario_datasets_filtro_1:\n",
    "    dataset_modificado=diccionario_datasets_filtro_1[nombre_dataset].loc[diccionario_datasets_filtro_1[nombre_dataset][\"valor_comparacion\"]!=6666]\n",
    "    diccionario_datasets_filtro_1[nombre_dataset]=dataset_modificado\n",
    "\n",
    "\n",
    "# Filtros 2\n",
    "for nombre_dataset in diccionario_datasets_filtro_2:\n",
    "    dataset_modificado=diccionario_datasets_filtro_2[nombre_dataset].loc[diccionario_datasets_filtro_2[nombre_dataset][\"valor_comparacion\"]!=6666]\n",
    "    diccionario_datasets_filtro_2[nombre_dataset]=dataset_modificado"
   ]
  },
  {
   "cell_type": "code",
   "execution_count": 36,
   "metadata": {},
   "outputs": [],
   "source": [
    "# Filtros 1\n",
    "for nombre_dataset in diccionario_datasets_filtro_1:\n",
    "    dataset_modificado=sql_query(f'''\n",
    "    SELECT COMBINACION AS PAR_DE_INDICE, AVG(VALOR_COMPARACION) AS AVERAGE_METRICA FROM (\n",
    "        SELECT *, par_1 || '-' || par_2 as combinacion FROM {nombre_dataset}\n",
    "        ORDER BY combinacion)\n",
    "     GROUP BY COMBINACION\n",
    "''')\n",
    "    diccionario_datasets_filtro_1[nombre_dataset]=dataset_modificado\n",
    "\n",
    "# Filtros 2\n",
    "for nombre_dataset in diccionario_datasets_filtro_2:\n",
    "    dataset_modificado=sql_query(f'''\n",
    "    SELECT COMBINACION AS PAR_DE_INDICE, AVG(VALOR_COMPARACION) AS AVERAGE_METRICA FROM (\n",
    "        SELECT *, par_1 || '-' || par_2 as combinacion FROM {nombre_dataset}\n",
    "        ORDER BY combinacion)\n",
    "     GROUP BY COMBINACION\n",
    "''')\n",
    "    diccionario_datasets_filtro_2[nombre_dataset]=dataset_modificado"
   ]
  },
  {
   "cell_type": "markdown",
   "metadata": {},
   "source": [
    "# chackpoint"
   ]
  },
  {
   "cell_type": "code",
   "execution_count": 37,
   "metadata": {},
   "outputs": [
    {
     "name": "stderr",
     "output_type": "stream",
     "text": [
      "100%|██████████| 32/32 [05:10<00:00,  9.71s/it]\n",
      "100%|██████████| 32/32 [48:25<00:00, 90.80s/it]  \n"
     ]
    }
   ],
   "source": [
    "def normalizar_columna(x, dataset,columna):\n",
    "    return (x - min(dataset.loc[:,columna])) / (max(dataset.loc[:,columna]) - min(dataset.loc[:,columna]))\n",
    "\n",
    "# Filtros 1\n",
    "for nombre_dataset in tqdm(diccionario_datasets_filtro_1):\n",
    "    diccionario_datasets_filtro_1[nombre_dataset].loc[:,\"AVERAGE_METRICA_NORMALIZE\"]=diccionario_datasets_filtro_1[nombre_dataset].loc[:,\"AVERAGE_METRICA\"].apply(lambda x: normalizar_columna(x,diccionario_datasets_filtro_1[nombre_dataset],\"AVERAGE_METRICA\"))\n",
    "\n",
    "#Filtros 2\n",
    "for nombre_dataset in tqdm(diccionario_datasets_filtro_2):\n",
    "    diccionario_datasets_filtro_2[nombre_dataset].loc[:,\"AVERAGE_METRICA_NORMALIZE\"]=diccionario_datasets_filtro_2[nombre_dataset].loc[:,\"AVERAGE_METRICA\"].apply(lambda x: normalizar_columna(x,diccionario_datasets_filtro_2[nombre_dataset],\"AVERAGE_METRICA\"))"
   ]
  },
  {
   "cell_type": "markdown",
   "metadata": {},
   "source": [
    "# recomendacion guardar los datasets porque la normalizacion dura demasiado"
   ]
  },
  {
   "cell_type": "code",
   "execution_count": 31,
   "metadata": {},
   "outputs": [
    {
     "name": "stderr",
     "output_type": "stream",
     "text": [
      "100%|██████████| 32/32 [00:00<00:00, 73.69it/s]\n",
      "100%|██████████| 32/32 [00:01<00:00, 23.17it/s]\n"
     ]
    }
   ],
   "source": [
    "for nombre_dataset in tqdm(diccionario_datasets_filtro_1):\n",
    "    diccionario_datasets_filtro_1[nombre_dataset].to_csv(f'Respaldo_procesados/filtro_1/{nombre_dataset}_procesado_for_evaluacion.csv')\n",
    "\n",
    "for nombre_dataset in tqdm(diccionario_datasets_filtro_2):\n",
    "    diccionario_datasets_filtro_2[nombre_dataset].to_csv(f'Respaldo_procesados/filtro_2/{nombre_dataset}_procesado_for_evaluacion.csv')"
   ]
  },
  {
   "cell_type": "markdown",
   "metadata": {},
   "source": [
    "# si es necesario cargar desde aca"
   ]
  },
  {
   "cell_type": "code",
   "execution_count": 8,
   "metadata": {},
   "outputs": [],
   "source": [
    "'''Diccionario de datasets filtro 1'''\n",
    "diccionario_datasets_filtro_1 = {\n",
    "    'salida_animal_bag': pd.read_csv('/home/angel/Desktop/Escritorio/UCM/TFM/trabajo_local/Respaldo_procesados/filtro_1/salida_animal_bag_procesado_for_evaluacion.csv'),\n",
    "    'salida_humano_bag': pd.read_csv('/home/angel/Desktop/Escritorio/UCM/TFM/trabajo_local/Respaldo_procesados/filtro_1/salida_humano_bag_procesado_for_evaluacion.csv'),\n",
    "    'salida_objeto_bag': pd.read_csv('/home/angel/Desktop/Escritorio/UCM/TFM/trabajo_local/Respaldo_procesados/filtro_1/salida_objeto_bag_procesado_for_evaluacion.csv'),\n",
    "    'salida_paisaje_bag': pd.read_csv('/home/angel/Desktop/Escritorio/UCM/TFM/trabajo_local/Respaldo_procesados/filtro_1/salida_paisaje_bag_procesado_for_evaluacion.csv'),\n",
    "\n",
    "    'salida_animal_cosine': pd.read_csv('/home/angel/Desktop/Escritorio/UCM/TFM/trabajo_local/Respaldo_procesados/filtro_1/salida_animal_cosine_procesado_for_evaluacion.csv'),\n",
    "    'salida_humano_cosine': pd.read_csv('/home/angel/Desktop/Escritorio/UCM/TFM/trabajo_local/Respaldo_procesados/filtro_1/salida_humano_cosine_procesado_for_evaluacion.csv'),\n",
    "    'salida_objeto_cosine': pd.read_csv('/home/angel/Desktop/Escritorio/UCM/TFM/trabajo_local/Respaldo_procesados/filtro_1/salida_objeto_cosine_procesado_for_evaluacion.csv'),\n",
    "    'salida_paisaje_cosine': pd.read_csv('/home/angel/Desktop/Escritorio/UCM/TFM/trabajo_local/Respaldo_procesados/filtro_1/salida_paisaje_cosine_procesado_for_evaluacion.csv'),\n",
    "\n",
    "    'salida_animal_jaccard': pd.read_csv('/home/angel/Desktop/Escritorio/UCM/TFM/trabajo_local/Respaldo_procesados/filtro_1/salida_animal_jaccard_procesado_for_evaluacion.csv'),\n",
    "    'salida_humano_jaccard': pd.read_csv('/home/angel/Desktop/Escritorio/UCM/TFM/trabajo_local/Respaldo_procesados/filtro_1/salida_humano_jaccard_procesado_for_evaluacion.csv'),\n",
    "    'salida_objeto_jaccard': pd.read_csv('/home/angel/Desktop/Escritorio/UCM/TFM/trabajo_local/Respaldo_procesados/filtro_1/salida_objeto_jaccard_procesado_for_evaluacion.csv'),\n",
    "    'salida_paisaje_jaccard': pd.read_csv('/home/angel/Desktop/Escritorio/UCM/TFM/trabajo_local/Respaldo_procesados/filtro_1/salida_paisaje_jaccard_procesado_for_evaluacion.csv'),\n",
    "\n",
    "    'salida_animal_levenshtein': pd.read_csv('/home/angel/Desktop/Escritorio/UCM/TFM/trabajo_local/Respaldo_procesados/filtro_1/salida_animal_levenshtein_procesado_for_evaluacion.csv'),\n",
    "    'salida_humano_levenshtein': pd.read_csv('/home/angel/Desktop/Escritorio/UCM/TFM/trabajo_local/Respaldo_procesados/filtro_1/salida_humano_levenshtein_procesado_for_evaluacion.csv'),\n",
    "    'salida_objeto_levenshtein': pd.read_csv('/home/angel/Desktop/Escritorio/UCM/TFM/trabajo_local/Respaldo_procesados/filtro_1/salida_objeto_levenshtein_procesado_for_evaluacion.csv'),\n",
    "    'salida_paisaje_levenshtein': pd.read_csv('/home/angel/Desktop/Escritorio/UCM/TFM/trabajo_local/Respaldo_procesados/filtro_1/salida_paisaje_levenshtein_procesado_for_evaluacion.csv'),\n",
    "\n",
    "    'salida_animal_overlap': pd.read_csv('/home/angel/Desktop/Escritorio/UCM/TFM/trabajo_local/Respaldo_procesados/filtro_1/salida_animal_overlap_procesado_for_evaluacion.csv'),\n",
    "    'salida_humano_overlap': pd.read_csv('/home/angel/Desktop/Escritorio/UCM/TFM/trabajo_local/Respaldo_procesados/filtro_1/salida_humano_overlap_procesado_for_evaluacion.csv'),\n",
    "    'salida_objeto_overlap': pd.read_csv('/home/angel/Desktop/Escritorio/UCM/TFM/trabajo_local/Respaldo_procesados/filtro_1/salida_objeto_overlap_procesado_for_evaluacion.csv'),\n",
    "    'salida_paisaje_overlap': pd.read_csv('/home/angel/Desktop/Escritorio/UCM/TFM/trabajo_local/Respaldo_procesados/filtro_1/salida_paisaje_overlap_procesado_for_evaluacion.csv'),\n",
    "\n",
    "    'salida_animal_sbert': pd.read_csv('/home/angel/Desktop/Escritorio/UCM/TFM/trabajo_local/Respaldo_procesados/filtro_1/salida_animal_sbert_procesado_for_evaluacion.csv'),\n",
    "    'salida_humano_sbert': pd.read_csv('/home/angel/Desktop/Escritorio/UCM/TFM/trabajo_local/Respaldo_procesados/filtro_1/salida_humano_sbert_procesado_for_evaluacion.csv'),\n",
    "    'salida_objeto_sbert': pd.read_csv('/home/angel/Desktop/Escritorio/UCM/TFM/trabajo_local/Respaldo_procesados/filtro_1/salida_objeto_sbert_procesado_for_evaluacion.csv'),\n",
    "    'salida_paisaje_sbert': pd.read_csv('/home/angel/Desktop/Escritorio/UCM/TFM/trabajo_local/Respaldo_procesados/filtro_1/salida_paisaje_sbert_procesado_for_evaluacion.csv'),\n",
    "\n",
    "    'salida_animal_web_similitary': pd.read_csv('/home/angel/Desktop/Escritorio/UCM/TFM/trabajo_local/Respaldo_procesados/filtro_1/salida_animal_web_similitary_procesado_for_evaluacion.csv'),\n",
    "    'salida_humano_web_similitary': pd.read_csv('/home/angel/Desktop/Escritorio/UCM/TFM/trabajo_local/Respaldo_procesados/filtro_1/salida_humano_sbert_procesado_for_evaluacion.csv'),\n",
    "    'salida_objeto_web_similitary': pd.read_csv('/home/angel/Desktop/Escritorio/UCM/TFM/trabajo_local/Respaldo_procesados/filtro_1/salida_objeto_web_similitary_procesado_for_evaluacion.csv'),\n",
    "    'salida_paisaje_web_similitary': pd.read_csv('/home/angel/Desktop/Escritorio/UCM/TFM/trabajo_local/Respaldo_procesados/filtro_1/salida_paisaje_web_similitary_procesado_for_evaluacion.csv'),\n",
    "\n",
    "    'salida_animal_pixel_to_pixel': pd.read_csv('/home/angel/Desktop/Escritorio/UCM/TFM/trabajo_local/Respaldo_procesados/filtro_1/salida_animal_pixel_to_pixel_procesado_for_evaluacion.csv'),\n",
    "    'salida_humano_pixel_to_pixel': pd.read_csv('/home/angel/Desktop/Escritorio/UCM/TFM/trabajo_local/Respaldo_procesados/filtro_1/salida_humano_pixel_to_pixel_procesado_for_evaluacion.csv'),\n",
    "    'salida_objeto_pixel_to_pixel': pd.read_csv('/home/angel/Desktop/Escritorio/UCM/TFM/trabajo_local/Respaldo_procesados/filtro_1/salida_objeto_pixel_to_pixel_procesado_for_evaluacion.csv'),\n",
    "    'salida_paisaje_pixel_to_pixel': pd.read_csv('/home/angel/Desktop/Escritorio/UCM/TFM/trabajo_local/Respaldo_procesados/filtro_1/salida_paisaje_pixel_to_pixel_procesado_for_evaluacion.csv')\n",
    "}\n",
    "\n",
    "\n",
    "\n",
    "'''Diccionario de datasets filtro 2'''\n",
    "diccionario_datasets_filtro_2 = {\n",
    "    'salida_animal_bag': pd.read_csv('/home/angel/Desktop/Escritorio/UCM/TFM/trabajo_local/Respaldo_procesados/filtro_2/salida_animal_bag_filtro_2_procesado_for_evaluacion.csv'),\n",
    "    'salida_humano_bag': pd.read_csv('/home/angel/Desktop/Escritorio/UCM/TFM/trabajo_local/Respaldo_procesados/filtro_2/salida_humano_bag_filtro_2_procesado_for_evaluacion.csv'),\n",
    "    'salida_objeto_bag': pd.read_csv('/home/angel/Desktop/Escritorio/UCM/TFM/trabajo_local/Respaldo_procesados/filtro_2/salida_objeto_bag_filtro_2_procesado_for_evaluacion.csv'),\n",
    "    'salida_paisaje_bag': pd.read_csv('/home/angel/Desktop/Escritorio/UCM/TFM/trabajo_local/Respaldo_procesados/filtro_2/salida_paisaje_bag_filtro_2_procesado_for_evaluacion.csv'),\n",
    "\n",
    "    'salida_animal_cosine': pd.read_csv('/home/angel/Desktop/Escritorio/UCM/TFM/trabajo_local/Respaldo_procesados/filtro_2/salida_animal_cosine_filtro_2_procesado_for_evaluacion.csv'),\n",
    "    'salida_humano_cosine': pd.read_csv('/home/angel/Desktop/Escritorio/UCM/TFM/trabajo_local/Respaldo_procesados/filtro_2/salida_humano_cosine_filtro_2_procesado_for_evaluacion.csv'),\n",
    "    'salida_objeto_cosine': pd.read_csv('/home/angel/Desktop/Escritorio/UCM/TFM/trabajo_local/Respaldo_procesados/filtro_2/salida_objeto_cosine_filtro_2_procesado_for_evaluacion.csv'),\n",
    "    'salida_paisaje_cosine': pd.read_csv('/home/angel/Desktop/Escritorio/UCM/TFM/trabajo_local/Respaldo_procesados/filtro_2/salida_paisaje_cosine_filtro_2_procesado_for_evaluacion.csv'),\n",
    "\n",
    "    'salida_animal_jaccard': pd.read_csv('/home/angel/Desktop/Escritorio/UCM/TFM/trabajo_local/Respaldo_procesados/filtro_2/salida_animal_jaccard_filtro_2_procesado_for_evaluacion.csv'),\n",
    "    'salida_humano_jaccard': pd.read_csv('/home/angel/Desktop/Escritorio/UCM/TFM/trabajo_local/Respaldo_procesados/filtro_2/salida_humano_jaccard_filtro_2_procesado_for_evaluacion.csv'),\n",
    "    'salida_objeto_jaccard': pd.read_csv('/home/angel/Desktop/Escritorio/UCM/TFM/trabajo_local/Respaldo_procesados/filtro_2/salida_objeto_jaccard_filtro_2_procesado_for_evaluacion.csv'),\n",
    "    'salida_paisaje_jaccard': pd.read_csv('/home/angel/Desktop/Escritorio/UCM/TFM/trabajo_local/Respaldo_procesados/filtro_2/salida_paisaje_jaccard_filtro_2_procesado_for_evaluacion.csv'),\n",
    "\n",
    "    'salida_animal_levenshtein': pd.read_csv('/home/angel/Desktop/Escritorio/UCM/TFM/trabajo_local/Respaldo_procesados/filtro_2/salida_animal_levenshtein_filtro_2_procesado_for_evaluacion.csv'),\n",
    "    'salida_humano_levenshtein': pd.read_csv('/home/angel/Desktop/Escritorio/UCM/TFM/trabajo_local/Respaldo_procesados/filtro_2/salida_humano_levenshtein_filtro_2_procesado_for_evaluacion.csv'),\n",
    "    'salida_objeto_levenshtein': pd.read_csv('/home/angel/Desktop/Escritorio/UCM/TFM/trabajo_local/Respaldo_procesados/filtro_2/salida_objeto_levenshtein_filtro_2_procesado_for_evaluacion.csv'),\n",
    "    'salida_paisaje_levenshtein': pd.read_csv('/home/angel/Desktop/Escritorio/UCM/TFM/trabajo_local/Respaldo_procesados/filtro_2/salida_paisaje_levenshtein_filtro_2_procesado_for_evaluacion.csv'),\n",
    "\n",
    "    'salida_animal_overlap': pd.read_csv('/home/angel/Desktop/Escritorio/UCM/TFM/trabajo_local/Respaldo_procesados/filtro_2/salida_animal_overlap_filtro_2_procesado_for_evaluacion.csv'),\n",
    "    'salida_humano_overlap': pd.read_csv('/home/angel/Desktop/Escritorio/UCM/TFM/trabajo_local/Respaldo_procesados/filtro_2/salida_humano_overlap_filtro_2_procesado_for_evaluacion.csv'),\n",
    "    'salida_objeto_overlap': pd.read_csv('/home/angel/Desktop/Escritorio/UCM/TFM/trabajo_local/Respaldo_procesados/filtro_2/salida_objeto_overlap_filtro_2_procesado_for_evaluacion.csv'),\n",
    "    'salida_paisaje_overlap': pd.read_csv('/home/angel/Desktop/Escritorio/UCM/TFM/trabajo_local/Respaldo_procesados/filtro_2/salida_paisaje_overlap_filtro_2_procesado_for_evaluacion.csv'),\n",
    "\n",
    "    'salida_animal_sbert': pd.read_csv('/home/angel/Desktop/Escritorio/UCM/TFM/trabajo_local/Respaldo_procesados/filtro_2/salida_animal_sbert_filtro_2_procesado_for_evaluacion.csv'),\n",
    "    'salida_humano_sbert': pd.read_csv('/home/angel/Desktop/Escritorio/UCM/TFM/trabajo_local/Respaldo_procesados/filtro_2/salida_humano_sbert_filtro_2_procesado_for_evaluacion.csv'),\n",
    "    'salida_objeto_sbert': pd.read_csv('/home/angel/Desktop/Escritorio/UCM/TFM/trabajo_local/Respaldo_procesados/filtro_2/salida_objeto_sbert_filtro_2_procesado_for_evaluacion.csv'),\n",
    "    'salida_paisaje_sbert': pd.read_csv('/home/angel/Desktop/Escritorio/UCM/TFM/trabajo_local/Respaldo_procesados/filtro_2/salida_paisaje_sbert_filtro_2_procesado_for_evaluacion.csv'),\n",
    "\n",
    "    'salida_animal_web_similitary': pd.read_csv('/home/angel/Desktop/Escritorio/UCM/TFM/trabajo_local/Respaldo_procesados/filtro_2/salida_animal_web_similitary_filtro_2_procesado_for_evaluacion.csv'),\n",
    "    'salida_humano_web_similitary': pd.read_csv('/home/angel/Desktop/Escritorio/UCM/TFM/trabajo_local/Respaldo_procesados/filtro_2/salida_humano_web_similitary_filtro_2_procesado_for_evaluacion.csv'),\n",
    "    'salida_objeto_web_similitary': pd.read_csv('/home/angel/Desktop/Escritorio/UCM/TFM/trabajo_local/Respaldo_procesados/filtro_2/salida_objeto_web_similitary_filtro_2_procesado_for_evaluacion.csv'),\n",
    "    'salida_paisaje_web_similitary': pd.read_csv('/home/angel/Desktop/Escritorio/UCM/TFM/trabajo_local/Respaldo_procesados/filtro_2/salida_paisaje_web_similitary_filtro_2_procesado_for_evaluacion.csv'),\n",
    "\n",
    "    'salida_animal_pixel_to_pixel': pd.read_csv('/home/angel/Desktop/Escritorio/UCM/TFM/trabajo_local/Respaldo_procesados/filtro_2/salida_animal_pixel_to_pixel_filtro_2_procesado_for_evaluacion.csv'),\n",
    "    'salida_humano_pixel_to_pixel': pd.read_csv('/home/angel/Desktop/Escritorio/UCM/TFM/trabajo_local/Respaldo_procesados/filtro_2/salida_humano_pixel_to_pixel_filtro_2_procesado_for_evaluacion.csv'),\n",
    "    'salida_objeto_pixel_to_pixel': pd.read_csv('/home/angel/Desktop/Escritorio/UCM/TFM/trabajo_local/Respaldo_procesados/filtro_2/salida_objeto_pixel_to_pixel_filtro_2_procesado_for_evaluacion.csv'),\n",
    "    'salida_paisaje_pixel_to_pixel': pd.read_csv('/home/angel/Desktop/Escritorio/UCM/TFM/trabajo_local/Respaldo_procesados/filtro_2/salida_paisaje_pixel_to_pixel_filtro_2_procesado_for_evaluacion.csv')\n",
    "}"
   ]
  },
  {
   "cell_type": "code",
   "execution_count": 9,
   "metadata": {},
   "outputs": [
    {
     "name": "stderr",
     "output_type": "stream",
     "text": [
      "100%|██████████| 32/32 [00:00<00:00, 57.34it/s]\n",
      "100%|██████████| 32/32 [00:01<00:00, 20.12it/s]\n"
     ]
    }
   ],
   "source": [
    "def extraer_par1(x):\n",
    "    return int(re.search('^.*(?=-)',x).group())\n",
    "\n",
    "def extraer_par2(x):\n",
    "    return int(re.search('(?<=-).*',x).group())\n",
    "\n",
    "def extrar_pares(dataset):\n",
    "    dataset.loc[:,'PAR_1']=dataset.loc[:,'PAR_DE_INDICE'].apply(extraer_par1)\n",
    "    dataset.loc[:,'PAR_2']=dataset.loc[:,'PAR_DE_INDICE'].apply(extraer_par2)\n",
    "    return dataset\n",
    "\n",
    "# Filtros 1\n",
    "for nombre_dataset in tqdm(diccionario_datasets_filtro_1):\n",
    "    diccionario_datasets_filtro_1[nombre_dataset] =extrar_pares(diccionario_datasets_filtro_1[nombre_dataset])\n",
    "\n",
    "# Filtros 2\n",
    "for nombre_dataset in tqdm(diccionario_datasets_filtro_2):\n",
    "    diccionario_datasets_filtro_2[nombre_dataset] =extrar_pares(diccionario_datasets_filtro_2[nombre_dataset])"
   ]
  },
  {
   "cell_type": "code",
   "execution_count": 11,
   "metadata": {},
   "outputs": [
    {
     "name": "stderr",
     "output_type": "stream",
     "text": [
      "100%|██████████| 32/32 [00:00<00:00, 457.26it/s]\n",
      "100%|██████████| 32/32 [00:00<00:00, 208.02it/s]\n"
     ]
    }
   ],
   "source": [
    "# Filtro 1\n",
    "for nombre_dataset in tqdm(diccionario_datasets_filtro_1):\n",
    "    diccionario_datasets_filtro_1[nombre_dataset]=diccionario_datasets_filtro_1[nombre_dataset].drop(['indice_main_x','indice_main_y'],axis=1).rename(columns={'data_lista_x':'data_PAR_1','data_lista_y':'data_PAR_2'})\n",
    "\n",
    "# Filtro 2\n",
    "for nombre_dataset in tqdm(diccionario_datasets_filtro_2):\n",
    "    diccionario_datasets_filtro_2[nombre_dataset]=diccionario_datasets_filtro_2[nombre_dataset].drop(['indice_main_x','indice_main_y'],axis=1).rename(columns={'data_lista_x':'data_PAR_1','data_lista_y':'data_PAR_2'})"
   ]
  },
  {
   "cell_type": "code",
   "execution_count": 10,
   "metadata": {},
   "outputs": [
    {
     "name": "stderr",
     "output_type": "stream",
     "text": [
      "100%|██████████| 32/32 [00:00<00:00, 196.25it/s]\n",
      "100%|██████████| 32/32 [00:00<00:00, 131.03it/s]\n"
     ]
    }
   ],
   "source": [
    "# Filtros 1\n",
    "for nombre_dataset in tqdm(diccionario_datasets_filtro_1):\n",
    "\n",
    "    if \"humano\" in nombre_dataset:\n",
    "        diccionario_datasets_filtro_1[nombre_dataset] = pd.merge(diccionario_datasets_filtro_1[nombre_dataset], dataset_humano_respuestas_completo_bytes_reparado[['indice_main','data_lista','etiqueta']], left_on='PAR_1', right_on='indice_main')\n",
    "        diccionario_datasets_filtro_1[nombre_dataset] = pd.merge(diccionario_datasets_filtro_1[nombre_dataset], dataset_humano_respuestas_completo_bytes_reparado[['indice_main','data_lista','etiqueta']], left_on='PAR_2', right_on='indice_main')\n",
    "    \n",
    "    elif \"animal\" in nombre_dataset:\n",
    "        diccionario_datasets_filtro_1[nombre_dataset] = pd.merge(diccionario_datasets_filtro_1[nombre_dataset], dataset_animal_respuestas_completo_bytes_reparado[['indice_main','data_lista','etiqueta']], left_on='PAR_1', right_on='indice_main')\n",
    "        diccionario_datasets_filtro_1[nombre_dataset] = pd.merge(diccionario_datasets_filtro_1[nombre_dataset], dataset_animal_respuestas_completo_bytes_reparado[['indice_main','data_lista','etiqueta']], left_on='PAR_2', right_on='indice_main')\n",
    "    \n",
    "    elif \"objeto\" in nombre_dataset:\n",
    "        diccionario_datasets_filtro_1[nombre_dataset] = pd.merge(diccionario_datasets_filtro_1[nombre_dataset], dataset_objeto_respuestas_completo_bytes_reparado[['indice_main','data_lista','etiqueta']], left_on='PAR_1', right_on='indice_main')\n",
    "        diccionario_datasets_filtro_1[nombre_dataset] = pd.merge(diccionario_datasets_filtro_1[nombre_dataset], dataset_objeto_respuestas_completo_bytes_reparado[['indice_main','data_lista','etiqueta']], left_on='PAR_2', right_on='indice_main')\n",
    "    \n",
    "    elif \"paisaje\" in nombre_dataset:\n",
    "        diccionario_datasets_filtro_1[nombre_dataset] = pd.merge(diccionario_datasets_filtro_1[nombre_dataset], dataset_paisaje_respuestas_completo_bytes_reparado[['indice_main','data_lista','etiqueta']], left_on='PAR_1', right_on='indice_main')\n",
    "        diccionario_datasets_filtro_1[nombre_dataset] = pd.merge(diccionario_datasets_filtro_1[nombre_dataset], dataset_paisaje_respuestas_completo_bytes_reparado[['indice_main','data_lista','etiqueta']], left_on='PAR_2', right_on='indice_main')\n",
    "    \n",
    "\n",
    "\n",
    "# Filtros 2\n",
    "for nombre_dataset in tqdm(diccionario_datasets_filtro_2):\n",
    "\n",
    "    if \"humano\" in nombre_dataset:\n",
    "        diccionario_datasets_filtro_2[nombre_dataset] = pd.merge(diccionario_datasets_filtro_2[nombre_dataset], dataset_humano_respuestas_completo_bytes_reparado[['indice_main','data_lista','etiqueta']], left_on='PAR_1', right_on='indice_main')\n",
    "        diccionario_datasets_filtro_2[nombre_dataset] = pd.merge(diccionario_datasets_filtro_2[nombre_dataset], dataset_humano_respuestas_completo_bytes_reparado[['indice_main','data_lista','etiqueta']], left_on='PAR_2', right_on='indice_main')\n",
    "    \n",
    "    elif \"animal\" in nombre_dataset:\n",
    "        diccionario_datasets_filtro_2[nombre_dataset] = pd.merge(diccionario_datasets_filtro_2[nombre_dataset], dataset_animal_respuestas_completo_bytes_reparado[['indice_main','data_lista','etiqueta']], left_on='PAR_1', right_on='indice_main')\n",
    "        diccionario_datasets_filtro_2[nombre_dataset] = pd.merge(diccionario_datasets_filtro_2[nombre_dataset], dataset_animal_respuestas_completo_bytes_reparado[['indice_main','data_lista','etiqueta']], left_on='PAR_2', right_on='indice_main')\n",
    "    \n",
    "    elif \"objeto\" in nombre_dataset:\n",
    "        diccionario_datasets_filtro_2[nombre_dataset] = pd.merge(diccionario_datasets_filtro_2[nombre_dataset], dataset_objeto_respuestas_completo_bytes_reparado[['indice_main','data_lista','etiqueta']], left_on='PAR_1', right_on='indice_main')\n",
    "        diccionario_datasets_filtro_2[nombre_dataset] = pd.merge(diccionario_datasets_filtro_2[nombre_dataset], dataset_objeto_respuestas_completo_bytes_reparado[['indice_main','data_lista','etiqueta']], left_on='PAR_2', right_on='indice_main')\n",
    "    \n",
    "    elif \"paisaje\" in nombre_dataset:\n",
    "        diccionario_datasets_filtro_2[nombre_dataset] = pd.merge(diccionario_datasets_filtro_2[nombre_dataset], dataset_paisaje_respuestas_completo_bytes_reparado[['indice_main','data_lista','etiqueta']], left_on='PAR_1', right_on='indice_main')\n",
    "        diccionario_datasets_filtro_2[nombre_dataset] = pd.merge(diccionario_datasets_filtro_2[nombre_dataset], dataset_paisaje_respuestas_completo_bytes_reparado[['indice_main','data_lista','etiqueta']], left_on='PAR_2', right_on='indice_main')\n",
    "    "
   ]
  },
  {
   "cell_type": "markdown",
   "metadata": {},
   "source": [
    "### Funcion K para extraer las imagenes mas cercanas dando una referencia y cuantas k se quiere mas parecido"
   ]
  },
  {
   "cell_type": "code",
   "execution_count": 12,
   "metadata": {},
   "outputs": [],
   "source": [
    "'''def funcion_k(dataset,par:int,k:int)-> pd.DataFrame:\n",
    "    consulta = dataset[dataset['PAR_1'] == par]\n",
    "    #### Tarea ordenar dependiendo del comportamiento de la metrica\n",
    "    consulta = consulta.sort_values(by='AVERAGE_METRICA_NORMALIZE', ascending=False)\n",
    "    consulta = consulta.head(k)\n",
    "    return consulta\n",
    "'''\n",
    "def funcion_k(dataset,par:int,k:int,nombre_dataset:str)-> pd.DataFrame:\n",
    "    # La metrica levenshetein funciona diferente entre el numero sea myor es mas diferente\n",
    "    if \"levenshtein\" in nombre_dataset:\n",
    "        consulta = dataset[dataset['PAR_1'] == par]\n",
    "        consulta = consulta.sort_values(by='AVERAGE_METRICA_NORMALIZE', ascending=True)\n",
    "        consulta = consulta.head(k)\n",
    "        return consulta\n",
    "    else:\n",
    "        consulta = dataset[dataset['PAR_1'] == par]\n",
    "        consulta = consulta.sort_values(by='AVERAGE_METRICA_NORMALIZE', ascending=False)\n",
    "        consulta = consulta.head(k)\n",
    "        return consulta"
   ]
  },
  {
   "cell_type": "markdown",
   "metadata": {},
   "source": [
    "# Evaluacion metrica RMSE"
   ]
  },
  {
   "cell_type": "code",
   "execution_count": 15,
   "metadata": {},
   "outputs": [
    {
     "name": "stdout",
     "output_type": "stream",
     "text": [
      "Collecting sewar\n",
      "  Downloading sewar-0.4.6.tar.gz (11 kB)\n",
      "  Preparing metadata (setup.py) ... \u001b[?25ldone\n",
      "\u001b[?25hRequirement already satisfied: numpy in /home/angel/miniconda3/envs/TFM_2/lib/python3.11/site-packages (from sewar) (1.26.1)\n",
      "Requirement already satisfied: scipy in /home/angel/miniconda3/envs/TFM_2/lib/python3.11/site-packages (from sewar) (1.15.2)\n",
      "Requirement already satisfied: Pillow in /home/angel/miniconda3/envs/TFM_2/lib/python3.11/site-packages (from sewar) (11.1.0)\n",
      "Building wheels for collected packages: sewar\n",
      "  Building wheel for sewar (setup.py) ... \u001b[?25ldone\n",
      "\u001b[?25h  Created wheel for sewar: filename=sewar-0.4.6-py3-none-any.whl size=11483 sha256=9769433a19e2e8b53c5376e58451fc5be99ea835596a57c63ca97097e76642ce\n",
      "  Stored in directory: /home/angel/.var/app/com.visualstudio.code/cache/pip/wheels/87/f9/d9/6ec7e7b470df5ba0e317c6988ba7677a124ab220f5effea702\n",
      "Successfully built sewar\n",
      "Installing collected packages: sewar\n",
      "Successfully installed sewar-0.4.6\n",
      "Note: you may need to restart the kernel to use updated packages.\n"
     ]
    }
   ],
   "source": [
    "%pip install sewar"
   ]
  },
  {
   "cell_type": "code",
   "execution_count": 7,
   "metadata": {},
   "outputs": [
    {
     "name": "stdout",
     "output_type": "stream",
     "text": [
      "Requirement already satisfied: pip in /home/angel/miniconda3/lib/python3.11/site-packages (24.2)\n",
      "Collecting pip\n",
      "  Downloading pip-24.3.1-py3-none-any.whl.metadata (3.7 kB)\n",
      "Downloading pip-24.3.1-py3-none-any.whl (1.8 MB)\n",
      "\u001b[2K   \u001b[38;2;114;156;31m━━━━━━━━━━━━━━━━━━━━━━━━━━━━━━━━━━━━━━━━\u001b[0m \u001b[32m1.8/1.8 MB\u001b[0m \u001b[31m3.9 MB/s\u001b[0m eta \u001b[36m0:00:00\u001b[0m MB/s\u001b[0m eta \u001b[36m0:00:01\u001b[0m\n",
      "\u001b[?25hInstalling collected packages: pip\n",
      "  Attempting uninstall: pip\n",
      "    Found existing installation: pip 24.2\n",
      "    Uninstalling pip-24.2:\n",
      "      Successfully uninstalled pip-24.2\n",
      "Successfully installed pip-24.3.1\n",
      "Note: you may need to restart the kernel to use updated packages.\n"
     ]
    }
   ],
   "source": [
    "%pip install --upgrade pip"
   ]
  },
  {
   "cell_type": "code",
   "execution_count": 1,
   "metadata": {},
   "outputs": [
    {
     "name": "stdout",
     "output_type": "stream",
     "text": [
      "Collecting opencv-python\n",
      "  Downloading opencv_python-4.10.0.84-cp37-abi3-manylinux_2_17_x86_64.manylinux2014_x86_64.whl.metadata (20 kB)\n",
      "Requirement already satisfied: numpy>=1.21.2 in /home/angel/miniconda3/lib/python3.11/site-packages (from opencv-python) (1.26.4)\n",
      "Downloading opencv_python-4.10.0.84-cp37-abi3-manylinux_2_17_x86_64.manylinux2014_x86_64.whl (62.5 MB)\n",
      "\u001b[2K   \u001b[38;2;114;156;31m━━━━━━━━━━━━━━━━━━━━━━━━━━━━━━━━━━━━━━━━\u001b[0m \u001b[32m62.5/62.5 MB\u001b[0m \u001b[31m11.2 MB/s\u001b[0m eta \u001b[36m0:00:00\u001b[0mm eta \u001b[36m0:00:01\u001b[0m[36m0:00:01\u001b[0m\n",
      "\u001b[?25hInstalling collected packages: opencv-python\n",
      "Successfully installed opencv-python-4.10.0.84\n",
      "Note: you may need to restart the kernel to use updated packages.\n"
     ]
    }
   ],
   "source": [
    "%pip install opencv-python"
   ]
  },
  {
   "cell_type": "markdown",
   "metadata": {},
   "source": [
    "### Funciones para evaluacion con la metrica rmse"
   ]
  },
  {
   "cell_type": "code",
   "execution_count": 13,
   "metadata": {},
   "outputs": [],
   "source": [
    "def calcular_promedio_de_rmse_k1(x):\n",
    "    return (x[0][1])/1\n",
    "\n",
    "def calcular_promedio_de_rmse_k2(x):\n",
    "    return (x[0][1]+ x[1][1])/2\n",
    "\n",
    "def calcular_promedio_de_rmse_k3(x):\n",
    "    return (x[0][1]+ x[1][1]+ x[2][1])/3\n",
    "\n",
    "def calcular_promedio_de_rmse_k4(x):\n",
    "    return (x[0][1]+ x[1][1]+ x[2][1]+ x[3][1])/4\n",
    "\n",
    "def transformar_cadena(x):\n",
    "    return eval(x)\n",
    "\n",
    "def rmse_manual(image_ref, image_comp):\n",
    "    from skimage.metrics import mean_squared_error\n",
    "    return mean_squared_error(image_ref,image_comp)\n",
    "\n",
    "def evaluacion_rmse(dataset,k,nombre_dataset):\n",
    "    from sewar.full_ref import rmse #type:ignore\n",
    "    \n",
    "    for indice in dataset.PAR_1.drop_duplicates():\n",
    "\n",
    "        img_ref=dataset['data_PAR_1'].loc[dataset['PAR_1']==indice].iloc[0].reshape(3,32,32).transpose(1,2,0)\n",
    "\n",
    "        mejores_valores = funcion_k(dataset,indice,k,nombre_dataset)[['PAR_2','data_PAR_2']]\n",
    "\n",
    "        evaluaciones=[rmse(img_ref,mejores_valores['data_PAR_2'].iloc[x].reshape(3,32,32).transpose(1,2,0)) for x in range(0,len(mejores_valores))]\n",
    "\n",
    "        if k==1:\n",
    "            valor= f'[({mejores_valores.iloc[0,0]},{evaluaciones[0]})]'\n",
    "            dataset.loc[dataset['PAR_1'] == indice, f'Evaluacion_k_igual{k}'] = valor\n",
    "\n",
    "        elif k==2:\n",
    "            valor= f'[({mejores_valores.iloc[0,0]},{evaluaciones[0]}),({mejores_valores.iloc[1,0]},{evaluaciones[1]})]'\n",
    "            dataset.loc[dataset['PAR_1'] == indice, f'Evaluacion_k_igual{k}'] = valor\n",
    "\n",
    "        elif k==3:\n",
    "            valor= f'[({mejores_valores.iloc[0,0]},{evaluaciones[0]}),({mejores_valores.iloc[1,0]},{evaluaciones[1]}),({mejores_valores.iloc[2,0]},{evaluaciones[2]})]'\n",
    "            dataset.loc[dataset['PAR_1'] == indice, f'Evaluacion_k_igual{k}'] = valor\n",
    "\n",
    "        elif k==4:\n",
    "            valor= f'[({mejores_valores.iloc[0,0]},{evaluaciones[0]}),({mejores_valores.iloc[1,0]},{evaluaciones[1]}),({mejores_valores.iloc[2,0]},{evaluaciones[2]}),({mejores_valores.iloc[3,0]},{evaluaciones[3]})]'\n",
    "            dataset.loc[dataset['PAR_1'] == indice, f'Evaluacion_k_igual{k}'] = valor\n",
    "\n",
    "    if k==1:\n",
    "        dataset.loc[:,f'Evaluacion_k_igual{k}']=dataset.loc[:,f'Evaluacion_k_igual{k}'].apply(transformar_cadena)\n",
    "        dataset.loc[:,f'promedio_{k}']=dataset.loc[:,f'Evaluacion_k_igual{k}'].apply(calcular_promedio_de_rmse_k1)\n",
    "\n",
    "    elif k==2:\n",
    "        dataset.loc[:,f'Evaluacion_k_igual{k}']=dataset.loc[:,f'Evaluacion_k_igual{k}'].apply(transformar_cadena)\n",
    "        dataset.loc[:,f'promedio_{k}']=dataset.loc[:,f'Evaluacion_k_igual{k}'].apply(calcular_promedio_de_rmse_k2)\n",
    "\n",
    "    elif k==3:\n",
    "        dataset.loc[:,f'Evaluacion_k_igual{k}']=dataset.loc[:,f'Evaluacion_k_igual{k}'].apply(transformar_cadena)\n",
    "        dataset.loc[:,f'promedio_{k}']=dataset.loc[:,f'Evaluacion_k_igual{k}'].apply(calcular_promedio_de_rmse_k3)\n",
    "\n",
    "    elif k==4:\n",
    "        dataset.loc[:,f'Evaluacion_k_igual{k}']=dataset.loc[:,f'Evaluacion_k_igual{k}'].apply(transformar_cadena)\n",
    "        dataset.loc[:,f'promedio_{k}']=dataset.loc[:,f'Evaluacion_k_igual{k}'].apply(calcular_promedio_de_rmse_k4)\n",
    "        \n",
    "    return dataset"
   ]
  },
  {
   "cell_type": "markdown",
   "metadata": {},
   "source": [
    "# Evaluacion"
   ]
  },
  {
   "cell_type": "code",
   "execution_count": 23,
   "metadata": {},
   "outputs": [
    {
     "name": "stderr",
     "output_type": "stream",
     "text": [
      "100%|██████████| 32/32 [00:30<00:00,  1.06it/s]\n",
      "100%|██████████| 32/32 [00:45<00:00,  1.41s/it]\n"
     ]
    }
   ],
   "source": [
    "# Filtro 1\n",
    "for nombre_dataset in tqdm(diccionario_datasets_filtro_1):\n",
    "    diccionario_datasets_filtro_1[nombre_dataset]=evaluacion_rmse(diccionario_datasets_filtro_1[nombre_dataset],1,nombre_dataset)\n",
    "    diccionario_datasets_filtro_1[nombre_dataset]=evaluacion_rmse(diccionario_datasets_filtro_1[nombre_dataset],2,nombre_dataset)\n",
    "    diccionario_datasets_filtro_1[nombre_dataset]=evaluacion_rmse(diccionario_datasets_filtro_1[nombre_dataset],3,nombre_dataset)\n",
    "\n",
    "# Filtro 2\n",
    "for nombre_dataset in tqdm(diccionario_datasets_filtro_2):\n",
    "    diccionario_datasets_filtro_2[nombre_dataset]=evaluacion_rmse(diccionario_datasets_filtro_2[nombre_dataset],1,nombre_dataset)\n",
    "    diccionario_datasets_filtro_2[nombre_dataset]=evaluacion_rmse(diccionario_datasets_filtro_2[nombre_dataset],2,nombre_dataset)\n",
    "    diccionario_datasets_filtro_2[nombre_dataset]=evaluacion_rmse(diccionario_datasets_filtro_2[nombre_dataset],3,nombre_dataset)"
   ]
  },
  {
   "cell_type": "markdown",
   "metadata": {},
   "source": [
    "## Agrupameinto de dataset para porcentaje de mejoras"
   ]
  },
  {
   "cell_type": "code",
   "execution_count": 24,
   "metadata": {},
   "outputs": [],
   "source": [
    "# Filtro 1\n",
    "    # bag\n",
    "dataset_bag_filtro_1_evaluaciones=pd.concat([diccionario_datasets_filtro_1[\"salida_animal_bag\"],\n",
    "                                            diccionario_datasets_filtro_1[\"salida_humano_bag\"],\n",
    "                                            diccionario_datasets_filtro_1[\"salida_objeto_bag\"],\n",
    "                                            diccionario_datasets_filtro_1[\"salida_paisaje_bag\"]])\n",
    "    \n",
    "    #cosine\n",
    "dataset_cosine_filtro_1_evaluaciones=pd.concat([\n",
    "                                                diccionario_datasets_filtro_1[\"salida_animal_cosine\"],\n",
    "                                                diccionario_datasets_filtro_1[\"salida_humano_cosine\"],\n",
    "                                                diccionario_datasets_filtro_1[\"salida_objeto_cosine\"],\n",
    "                                                diccionario_datasets_filtro_1[\"salida_paisaje_cosine\"]])\n",
    "\n",
    "    \n",
    "    #jaccard\n",
    "dataset_jaccard_filtro_1_evaluaciones=pd.concat([\n",
    "                                                diccionario_datasets_filtro_1[\"salida_animal_jaccard\"],\n",
    "                                                diccionario_datasets_filtro_1[\"salida_humano_jaccard\"],\n",
    "                                                diccionario_datasets_filtro_1[\"salida_objeto_jaccard\"],\n",
    "                                                diccionario_datasets_filtro_1[\"salida_paisaje_jaccard\"]])\n",
    "\n",
    "    #levenshtein\n",
    "dataset_levenshtein_filtro_1_evaluaciones=pd.concat([diccionario_datasets_filtro_1[\"salida_animal_levenshtein\"],\n",
    "                                                        diccionario_datasets_filtro_1[\"salida_humano_levenshtein\"],\n",
    "                                                        diccionario_datasets_filtro_1[\"salida_objeto_levenshtein\"],\n",
    "                                                        diccionario_datasets_filtro_1[\"salida_paisaje_levenshtein\"]])\n",
    "\n",
    "    #overlap\n",
    "dataset_overlap_filtro_1_evaluaciones=pd.concat([diccionario_datasets_filtro_1[\"salida_animal_overlap\"],\n",
    "                                                diccionario_datasets_filtro_1[\"salida_humano_overlap\"],\n",
    "                                                diccionario_datasets_filtro_1[\"salida_objeto_overlap\"],\n",
    "                                                diccionario_datasets_filtro_1[\"salida_paisaje_overlap\"]])\n",
    "\n",
    "    #sbert\n",
    "dataset_sbert_filtro_1_evaluaciones=pd.concat([diccionario_datasets_filtro_1[\"salida_animal_sbert\"],\n",
    "                                                diccionario_datasets_filtro_1[\"salida_humano_sbert\"],\n",
    "                                                diccionario_datasets_filtro_1[\"salida_objeto_sbert\"],\n",
    "                                                diccionario_datasets_filtro_1[\"salida_paisaje_sbert\"]])\n",
    "\n",
    "    #web similitary\n",
    "dataset_web_similitary_filtro_1_evaluaciones=pd.concat([diccionario_datasets_filtro_1[\"salida_animal_web_similitary\"],\n",
    "                                                        diccionario_datasets_filtro_1[\"salida_humano_web_similitary\"],\n",
    "                                                        diccionario_datasets_filtro_1[\"salida_objeto_web_similitary\"],\n",
    "                                                        diccionario_datasets_filtro_1[\"salida_paisaje_web_similitary\"]])\n",
    "\n",
    "    #pixel_to_pixel\n",
    "dataset_pixel_to_pixel_filtro_1_evaluaciones=pd.concat([\n",
    "                                                        diccionario_datasets_filtro_1[\"salida_animal_pixel_to_pixel\"],\n",
    "                                                        diccionario_datasets_filtro_1[\"salida_humano_pixel_to_pixel\"],\n",
    "                                                        diccionario_datasets_filtro_1[\"salida_objeto_pixel_to_pixel\"],\n",
    "                                                        diccionario_datasets_filtro_1[\"salida_paisaje_pixel_to_pixel\"]])"
   ]
  },
  {
   "cell_type": "markdown",
   "metadata": {},
   "source": [
    "## Exportando evaluaciones en bruto"
   ]
  },
  {
   "cell_type": "code",
   "execution_count": 25,
   "metadata": {},
   "outputs": [],
   "source": [
    "# Filtro 1\n",
    "    # bag\n",
    "dataset_bag_filtro_1_evaluaciones.to_excel(\"Evaluaciones_en_bruto/RMSE/dataset_bag_filtro_1_evaluaciones.xlsx\")\n",
    "    \n",
    "    #cosine\n",
    "dataset_cosine_filtro_1_evaluaciones.to_excel(\"Evaluaciones_en_bruto/RMSE/dataset_cosine_filtro_1_evaluaciones.xlsx\")\n",
    "\n",
    "    \n",
    "    #jaccard\n",
    "dataset_jaccard_filtro_1_evaluaciones.to_excel(\"Evaluaciones_en_bruto/RMSE/dataset_jaccard_filtro_1_evaluaciones.xlsx\")\n",
    "\n",
    "    #levenshtein\n",
    "dataset_levenshtein_filtro_1_evaluaciones.to_excel(\"Evaluaciones_en_bruto/RMSE/dataset_levenshtein_filtro_1_evaluaciones.xlsx\")\n",
    "\n",
    "    #overlap\n",
    "dataset_overlap_filtro_1_evaluaciones.to_excel(\"Evaluaciones_en_bruto/RMSE/dataset_overlap_filtro_1_evaluaciones.xlsx\")\n",
    "\n",
    "    #sbert\n",
    "dataset_sbert_filtro_1_evaluaciones.to_excel(\"Evaluaciones_en_bruto/RMSE/dataset_sbert_filtro_1_evaluaciones.xlsx\")\n",
    "\n",
    "    #web similitary\n",
    "dataset_web_similitary_filtro_1_evaluaciones.to_excel(\"Evaluaciones_en_bruto/RMSE/dataset_web_similitary_filtro_1_evaluaciones.xlsx\")\n",
    "\n",
    "    #pixel_to_pixel\n",
    "dataset_pixel_to_pixel_filtro_1_evaluaciones.to_excel(\"Evaluaciones_en_bruto/RMSE/dataset_pixel_to_pixel_filtro_1_evaluaciones.xlsx\")"
   ]
  },
  {
   "cell_type": "code",
   "execution_count": 25,
   "metadata": {},
   "outputs": [],
   "source": [
    "# Filtro 2\n",
    "    # bag\n",
    "dataset_bag_filtro_2_evaluaciones=pd.concat([diccionario_datasets_filtro_2[\"salida_animal_bag\"],\n",
    "                                            diccionario_datasets_filtro_2[\"salida_humano_bag\"],\n",
    "                                            diccionario_datasets_filtro_2[\"salida_objeto_bag\"],\n",
    "                                            diccionario_datasets_filtro_2[\"salida_paisaje_bag\"]])\n",
    "    \n",
    "    #cosine\n",
    "dataset_cosine_filtro_2_evaluaciones=pd.concat([\n",
    "                                                diccionario_datasets_filtro_2[\"salida_animal_cosine\"],\n",
    "                                                diccionario_datasets_filtro_2[\"salida_humano_cosine\"],\n",
    "                                                diccionario_datasets_filtro_2[\"salida_objeto_cosine\"],\n",
    "                                                diccionario_datasets_filtro_2[\"salida_paisaje_cosine\"]])\n",
    "\n",
    "    \n",
    "    #jaccard\n",
    "dataset_jaccard_filtro_2_evaluaciones=pd.concat([\n",
    "                                                diccionario_datasets_filtro_2[\"salida_animal_jaccard\"],\n",
    "                                                diccionario_datasets_filtro_2[\"salida_humano_jaccard\"],\n",
    "                                                diccionario_datasets_filtro_2[\"salida_objeto_jaccard\"],\n",
    "                                                diccionario_datasets_filtro_2[\"salida_paisaje_jaccard\"]])\n",
    "\n",
    "    #levenshtein\n",
    "dataset_levenshtein_filtro_2_evaluaciones=pd.concat([diccionario_datasets_filtro_2[\"salida_animal_levenshtein\"],\n",
    "                                                        diccionario_datasets_filtro_2[\"salida_humano_levenshtein\"],\n",
    "                                                        diccionario_datasets_filtro_2[\"salida_objeto_levenshtein\"],\n",
    "                                                        diccionario_datasets_filtro_2[\"salida_paisaje_levenshtein\"]])\n",
    "\n",
    "    #overlap\n",
    "dataset_overlap_filtro_2_evaluaciones=pd.concat(\n",
    "                                                [diccionario_datasets_filtro_2[\"salida_animal_overlap\"],\n",
    "                                                diccionario_datasets_filtro_2[\"salida_humano_overlap\"],\n",
    "                                                diccionario_datasets_filtro_2[\"salida_objeto_overlap\"],\n",
    "                                                diccionario_datasets_filtro_2[\"salida_paisaje_overlap\"]])\n",
    "\n",
    "\n",
    "\n",
    "    #sbert\n",
    "dataset_sbert_filtro_2_evaluaciones=pd.concat([diccionario_datasets_filtro_2[\"salida_animal_sbert\"],\n",
    "                                                diccionario_datasets_filtro_2[\"salida_humano_sbert\"],\n",
    "                                                diccionario_datasets_filtro_2[\"salida_objeto_sbert\"],\n",
    "                                                diccionario_datasets_filtro_2[\"salida_paisaje_sbert\"]])\n",
    "\n",
    "    #web similitary\n",
    "dataset_web_similitary_filtro_2_evaluaciones=pd.concat([diccionario_datasets_filtro_2[\"salida_animal_web_similitary\"],\n",
    "                                                        diccionario_datasets_filtro_2[\"salida_humano_web_similitary\"],\n",
    "                                                        diccionario_datasets_filtro_2[\"salida_objeto_web_similitary\"],\n",
    "                                                        diccionario_datasets_filtro_2[\"salida_paisaje_web_similitary\"]])\n",
    "\n",
    "    #pixel_to_pixel\n",
    "dataset_pixel_to_pixel_filtro_2_evaluaciones=pd.concat([\n",
    "                                                        diccionario_datasets_filtro_2[\"salida_animal_pixel_to_pixel\"],\n",
    "                                                        diccionario_datasets_filtro_2[\"salida_humano_pixel_to_pixel\"],\n",
    "                                                        diccionario_datasets_filtro_2[\"salida_objeto_pixel_to_pixel\"],\n",
    "                                                        diccionario_datasets_filtro_2[\"salida_paisaje_pixel_to_pixel\"]])"
   ]
  },
  {
   "cell_type": "markdown",
   "metadata": {},
   "source": [
    "## Exportando evaluaciones en bruto"
   ]
  },
  {
   "cell_type": "code",
   "execution_count": 26,
   "metadata": {},
   "outputs": [],
   "source": [
    "# Filtro 2\n",
    "    # bag\n",
    "dataset_bag_filtro_2_evaluaciones.to_excel(\"Evaluaciones_en_bruto/RMSE/dataset_bag_filtro_2_evaluaciones.xlsx\")\n",
    "    \n",
    "    #cosine\n",
    "dataset_cosine_filtro_2_evaluaciones.to_excel(\"Evaluaciones_en_bruto/RMSE/dataset_cosine_filtro_2_evaluaciones.xlsx\")\n",
    "\n",
    "    \n",
    "    #jaccard\n",
    "dataset_jaccard_filtro_2_evaluaciones.to_excel(\"Evaluaciones_en_bruto/RMSE/dataset_jaccard_filtro_2_evaluaciones.xlsx\")\n",
    "\n",
    "    #levenshtein\n",
    "dataset_levenshtein_filtro_2_evaluaciones.to_excel(\"Evaluaciones_en_bruto/RMSE/dataset_levenshtein_filtro_2_evaluaciones.xlsx\")\n",
    "\n",
    "    #overlap\n",
    "dataset_overlap_filtro_2_evaluaciones.to_excel(\"Evaluaciones_en_bruto/RMSE/dataset_overlap_filtro_2_evaluaciones.xlsx\")\n",
    "\n",
    "    #sbert\n",
    "dataset_sbert_filtro_2_evaluaciones.to_excel(\"Evaluaciones_en_bruto/RMSE/dataset_sbert_filtro_2_evaluaciones.xlsx\")\n",
    "\n",
    "    #web similitary\n",
    "dataset_web_similitary_filtro_2_evaluaciones.to_excel(\"Evaluaciones_en_bruto/RMSE/dataset_web_similitary_filtro_2_evaluaciones.xlsx\")\n",
    "\n",
    "    #pixel_to_pixel\n",
    "dataset_pixel_to_pixel_filtro_2_evaluaciones.to_excel(\"Evaluaciones_en_bruto/RMSE/dataset_pixel_to_pixel_filtro_2_evaluaciones.xlsx\")"
   ]
  },
  {
   "cell_type": "markdown",
   "metadata": {},
   "source": [
    "# Tablas compatavias Evaluaciones (No porcentaje de mejoras)"
   ]
  },
  {
   "cell_type": "code",
   "execution_count": 26,
   "metadata": {},
   "outputs": [],
   "source": [
    "#Valores para K1\n",
    "Promedio_evaluacion_bag_K1_filtro_1=dataset_bag_filtro_1_evaluaciones.promedio_1.mean()\n",
    "Promedio_evaluacion_cosine_K1_filtro_1= dataset_cosine_filtro_1_evaluaciones.promedio_1.mean()\n",
    "Promedio_evaluacion_jaccard_K1_filtro_1= dataset_jaccard_filtro_1_evaluaciones.promedio_1.mean()\n",
    "Promedio_evaluacion_levestehinh_K1_filtro_1= dataset_levenshtein_filtro_1_evaluaciones.promedio_1.mean()\n",
    "Promedio_evaluacion_overlap_K1_filtro_1= dataset_overlap_filtro_1_evaluaciones.promedio_1.mean()\n",
    "Promedio_evaluacion_sbert_K1_filtro_1= dataset_sbert_filtro_1_evaluaciones.promedio_1.mean()\n",
    "Promedio_evaluacion_web_similitary_K1_filtro_1= dataset_web_similitary_filtro_1_evaluaciones.promedio_1.mean()\n",
    "Promedio_evaluacion_pixel_K1_filtro_1= dataset_pixel_to_pixel_filtro_1_evaluaciones.promedio_1.mean()\n",
    "\n",
    "Promedio_evaluacion_bag_K1_filtro_2=dataset_bag_filtro_2_evaluaciones.promedio_1.mean()\n",
    "Promedio_evaluacion_cosine_K1_filtro_2= dataset_cosine_filtro_2_evaluaciones.promedio_1.mean()\n",
    "Promedio_evaluacion_jaccard_K1_filtro_2= dataset_jaccard_filtro_2_evaluaciones.promedio_1.mean()\n",
    "Promedio_evaluacion_levestehinh_K1_filtro_2= dataset_levenshtein_filtro_2_evaluaciones.promedio_1.mean()\n",
    "Promedio_evaluacion_overlap_K1_filtro_2= dataset_overlap_filtro_2_evaluaciones.promedio_1.mean()\n",
    "Promedio_evaluacion_sbert_K1_filtro_2= dataset_sbert_filtro_2_evaluaciones.promedio_1.mean()\n",
    "Promedio_evaluacion_web_similitary_K1_filtro_2= dataset_web_similitary_filtro_2_evaluaciones.promedio_1.mean()\n",
    "Promedio_evaluacion_pixel_K1_filtro_2= dataset_pixel_to_pixel_filtro_2_evaluaciones.promedio_1.mean()\n",
    "\n",
    "\n",
    "\n",
    "Valores_k1=[\n",
    "\n",
    "    Promedio_evaluacion_bag_K1_filtro_1,\n",
    "    Promedio_evaluacion_cosine_K1_filtro_1,\n",
    "    Promedio_evaluacion_jaccard_K1_filtro_1,\n",
    "    Promedio_evaluacion_levestehinh_K1_filtro_1,\n",
    "    Promedio_evaluacion_overlap_K1_filtro_1,\n",
    "    Promedio_evaluacion_sbert_K1_filtro_1,\n",
    "    Promedio_evaluacion_web_similitary_K1_filtro_1,\n",
    "    Promedio_evaluacion_pixel_K1_filtro_1,\n",
    "\n",
    "    Promedio_evaluacion_bag_K1_filtro_2,\n",
    "    Promedio_evaluacion_cosine_K1_filtro_2,\n",
    "    Promedio_evaluacion_jaccard_K1_filtro_2,\n",
    "    Promedio_evaluacion_levestehinh_K1_filtro_2,\n",
    "    Promedio_evaluacion_overlap_K1_filtro_2,\n",
    "    Promedio_evaluacion_sbert_K1_filtro_2,\n",
    "    Promedio_evaluacion_web_similitary_K1_filtro_2,\n",
    "    Promedio_evaluacion_pixel_K1_filtro_2\n",
    "]\n",
    "\n",
    "\n",
    "\n",
    "#Valores para k2\n",
    "Promedio_evaluacion_bag_k2_filtro_1=dataset_bag_filtro_1_evaluaciones.promedio_2.mean()\n",
    "Promedio_evaluacion_cosine_k2_filtro_1= dataset_cosine_filtro_1_evaluaciones.promedio_2.mean()\n",
    "Promedio_evaluacion_jaccard_k2_filtro_1= dataset_jaccard_filtro_1_evaluaciones.promedio_2.mean()\n",
    "Promedio_evaluacion_levestehinh_k2_filtro_1= dataset_levenshtein_filtro_1_evaluaciones.promedio_2.mean()\n",
    "Promedio_evaluacion_overlap_k2_filtro_1= dataset_overlap_filtro_1_evaluaciones.promedio_2.mean()\n",
    "Promedio_evaluacion_sbert_k2_filtro_1= dataset_sbert_filtro_1_evaluaciones.promedio_2.mean()\n",
    "Promedio_evaluacion_web_similitary_k2_filtro_1= dataset_web_similitary_filtro_1_evaluaciones.promedio_2.mean()\n",
    "Promedio_evaluacion_pixel_k2_filtro_1= dataset_pixel_to_pixel_filtro_1_evaluaciones.promedio_2.mean()\n",
    "\n",
    "Promedio_evaluacion_bag_k2_filtro_2=dataset_bag_filtro_2_evaluaciones.promedio_2.mean()\n",
    "Promedio_evaluacion_cosine_k2_filtro_2= dataset_cosine_filtro_2_evaluaciones.promedio_2.mean()\n",
    "Promedio_evaluacion_jaccard_k2_filtro_2= dataset_jaccard_filtro_2_evaluaciones.promedio_2.mean()\n",
    "Promedio_evaluacion_levestehinh_k2_filtro_2= dataset_levenshtein_filtro_2_evaluaciones.promedio_2.mean()\n",
    "Promedio_evaluacion_overlap_k2_filtro_2= dataset_overlap_filtro_2_evaluaciones.promedio_2.mean()\n",
    "Promedio_evaluacion_sbert_k2_filtro_2= dataset_sbert_filtro_2_evaluaciones.promedio_2.mean()\n",
    "Promedio_evaluacion_web_similitary_k2_filtro_2= dataset_web_similitary_filtro_2_evaluaciones.promedio_2.mean()\n",
    "Promedio_evaluacion_pixel_k2_filtro_2= dataset_pixel_to_pixel_filtro_2_evaluaciones.promedio_2.mean()\n",
    "\n",
    "Valores_k2=[\n",
    "\n",
    "    Promedio_evaluacion_bag_k2_filtro_1,\n",
    "    Promedio_evaluacion_cosine_k2_filtro_1,\n",
    "    Promedio_evaluacion_jaccard_k2_filtro_1,\n",
    "    Promedio_evaluacion_levestehinh_k2_filtro_1,\n",
    "    Promedio_evaluacion_overlap_k2_filtro_1,\n",
    "    Promedio_evaluacion_sbert_k2_filtro_1,\n",
    "    Promedio_evaluacion_web_similitary_k2_filtro_1,\n",
    "    Promedio_evaluacion_pixel_k2_filtro_1,\n",
    "\n",
    "    Promedio_evaluacion_bag_k2_filtro_2,\n",
    "    Promedio_evaluacion_cosine_k2_filtro_2,\n",
    "    Promedio_evaluacion_jaccard_k2_filtro_2,\n",
    "    Promedio_evaluacion_levestehinh_k2_filtro_2,\n",
    "    Promedio_evaluacion_overlap_k2_filtro_2,\n",
    "    Promedio_evaluacion_sbert_k2_filtro_2,\n",
    "    Promedio_evaluacion_web_similitary_k2_filtro_2,\n",
    "    Promedio_evaluacion_pixel_k2_filtro_2\n",
    "]\n",
    "\n",
    "\n",
    "#Valores para k3\n",
    "Promedio_evaluacion_bag_k3_filtro_1=dataset_bag_filtro_1_evaluaciones.promedio_3.mean()\n",
    "Promedio_evaluacion_cosine_k3_filtro_1= dataset_cosine_filtro_1_evaluaciones.promedio_3.mean()\n",
    "Promedio_evaluacion_jaccard_k3_filtro_1= dataset_jaccard_filtro_1_evaluaciones.promedio_3.mean()\n",
    "Promedio_evaluacion_levestehinh_k3_filtro_1= dataset_levenshtein_filtro_1_evaluaciones.promedio_3.mean()\n",
    "Promedio_evaluacion_overlap_k3_filtro_1= dataset_overlap_filtro_1_evaluaciones.promedio_3.mean()\n",
    "Promedio_evaluacion_sbert_k3_filtro_1= dataset_sbert_filtro_1_evaluaciones.promedio_3.mean()\n",
    "Promedio_evaluacion_web_similitary_k3_filtro_1= dataset_web_similitary_filtro_1_evaluaciones.promedio_3.mean()\n",
    "Promedio_evaluacion_pixel_k3_filtro_1= dataset_pixel_to_pixel_filtro_1_evaluaciones.promedio_3.mean()\n",
    "\n",
    "Promedio_evaluacion_bag_k3_filtro_2=dataset_bag_filtro_2_evaluaciones.promedio_3.mean()\n",
    "Promedio_evaluacion_cosine_k3_filtro_2= dataset_cosine_filtro_2_evaluaciones.promedio_3.mean()\n",
    "Promedio_evaluacion_jaccard_k3_filtro_2= dataset_jaccard_filtro_2_evaluaciones.promedio_3.mean()\n",
    "Promedio_evaluacion_levestehinh_k3_filtro_2= dataset_levenshtein_filtro_2_evaluaciones.promedio_3.mean()\n",
    "Promedio_evaluacion_overlap_k3_filtro_2= dataset_overlap_filtro_2_evaluaciones.promedio_3.mean()\n",
    "Promedio_evaluacion_sbert_k3_filtro_2= dataset_sbert_filtro_2_evaluaciones.promedio_3.mean()\n",
    "Promedio_evaluacion_web_similitary_k3_filtro_2= dataset_web_similitary_filtro_2_evaluaciones.promedio_3.mean()\n",
    "Promedio_evaluacion_pixel_k3_filtro_2= dataset_pixel_to_pixel_filtro_2_evaluaciones.promedio_3.mean()\n",
    "\n",
    "\n",
    "Valores_k3=[\n",
    "\n",
    "    Promedio_evaluacion_bag_k3_filtro_1,\n",
    "    Promedio_evaluacion_cosine_k3_filtro_1,\n",
    "    Promedio_evaluacion_jaccard_k3_filtro_1,\n",
    "    Promedio_evaluacion_levestehinh_k3_filtro_1,\n",
    "    Promedio_evaluacion_overlap_k3_filtro_1,\n",
    "    Promedio_evaluacion_sbert_k3_filtro_1,\n",
    "    Promedio_evaluacion_web_similitary_k3_filtro_1,\n",
    "    Promedio_evaluacion_pixel_k3_filtro_1,\n",
    "\n",
    "    Promedio_evaluacion_bag_k3_filtro_2,\n",
    "    Promedio_evaluacion_cosine_k3_filtro_2,\n",
    "    Promedio_evaluacion_jaccard_k3_filtro_2,\n",
    "    Promedio_evaluacion_levestehinh_k3_filtro_2,\n",
    "    Promedio_evaluacion_overlap_k3_filtro_2,\n",
    "    Promedio_evaluacion_sbert_k3_filtro_2,\n",
    "    Promedio_evaluacion_web_similitary_k3_filtro_2,\n",
    "    Promedio_evaluacion_pixel_k3_filtro_2\n",
    "]"
   ]
  },
  {
   "cell_type": "code",
   "execution_count": 27,
   "metadata": {},
   "outputs": [],
   "source": [
    "Tabla_comparativa_evaluaciones= {\n",
    "    'Metrica':[\"Bag\", \"Cosine\", \"jaccard\", \"levestehin\",\"overlap\", \"SBERT\", \"Web_similitary\",\"pixel_to_pixel\", \"Bag\", \"Cosine\", \"jaccard\", \"levestehin\",\"overlap\", \"SBERT\", \"Web_similitary\",\"pixel_to_pixel\"],\n",
    "    'Filtro':[\"1\",\"1\",\"1\",\"1\",\"1\",\"1\",\"1\",\"1\",\"2\",\"2\",\"2\",\"2\",\"2\",\"2\",\"2\",\"2\"],\n",
    "    'K1':Valores_k1,\n",
    "    'K2':Valores_k2,\n",
    "    'k3':Valores_k3\n",
    "}\n",
    "\n",
    "Tabla_comparativa_evaluaciones=pd.DataFrame(Tabla_comparativa_evaluaciones)"
   ]
  },
  {
   "cell_type": "code",
   "execution_count": 28,
   "metadata": {},
   "outputs": [
    {
     "data": {
      "text/html": [
       "<div>\n",
       "<style scoped>\n",
       "    .dataframe tbody tr th:only-of-type {\n",
       "        vertical-align: middle;\n",
       "    }\n",
       "\n",
       "    .dataframe tbody tr th {\n",
       "        vertical-align: top;\n",
       "    }\n",
       "\n",
       "    .dataframe thead th {\n",
       "        text-align: right;\n",
       "    }\n",
       "</style>\n",
       "<table border=\"1\" class=\"dataframe\">\n",
       "  <thead>\n",
       "    <tr style=\"text-align: right;\">\n",
       "      <th></th>\n",
       "      <th>Metrica</th>\n",
       "      <th>Filtro</th>\n",
       "      <th>K1</th>\n",
       "      <th>K2</th>\n",
       "      <th>k3</th>\n",
       "    </tr>\n",
       "  </thead>\n",
       "  <tbody>\n",
       "    <tr>\n",
       "      <th>0</th>\n",
       "      <td>Bag</td>\n",
       "      <td>1</td>\n",
       "      <td>93.003465</td>\n",
       "      <td>92.012757</td>\n",
       "      <td>91.531151</td>\n",
       "    </tr>\n",
       "    <tr>\n",
       "      <th>1</th>\n",
       "      <td>Cosine</td>\n",
       "      <td>1</td>\n",
       "      <td>85.878574</td>\n",
       "      <td>85.948509</td>\n",
       "      <td>86.205712</td>\n",
       "    </tr>\n",
       "    <tr>\n",
       "      <th>2</th>\n",
       "      <td>jaccard</td>\n",
       "      <td>1</td>\n",
       "      <td>85.293331</td>\n",
       "      <td>85.378076</td>\n",
       "      <td>85.921506</td>\n",
       "    </tr>\n",
       "    <tr>\n",
       "      <th>3</th>\n",
       "      <td>levestehin</td>\n",
       "      <td>1</td>\n",
       "      <td>85.935372</td>\n",
       "      <td>86.392664</td>\n",
       "      <td>86.636424</td>\n",
       "    </tr>\n",
       "    <tr>\n",
       "      <th>4</th>\n",
       "      <td>overlap</td>\n",
       "      <td>1</td>\n",
       "      <td>85.580425</td>\n",
       "      <td>86.774533</td>\n",
       "      <td>86.973723</td>\n",
       "    </tr>\n",
       "    <tr>\n",
       "      <th>5</th>\n",
       "      <td>SBERT</td>\n",
       "      <td>1</td>\n",
       "      <td>84.459787</td>\n",
       "      <td>85.361863</td>\n",
       "      <td>86.148942</td>\n",
       "    </tr>\n",
       "    <tr>\n",
       "      <th>6</th>\n",
       "      <td>Web_similitary</td>\n",
       "      <td>1</td>\n",
       "      <td>84.368831</td>\n",
       "      <td>85.491986</td>\n",
       "      <td>86.105283</td>\n",
       "    </tr>\n",
       "    <tr>\n",
       "      <th>7</th>\n",
       "      <td>pixel_to_pixel</td>\n",
       "      <td>1</td>\n",
       "      <td>131.748107</td>\n",
       "      <td>128.047595</td>\n",
       "      <td>124.735111</td>\n",
       "    </tr>\n",
       "    <tr>\n",
       "      <th>8</th>\n",
       "      <td>Bag</td>\n",
       "      <td>2</td>\n",
       "      <td>94.320718</td>\n",
       "      <td>94.134790</td>\n",
       "      <td>94.368960</td>\n",
       "    </tr>\n",
       "    <tr>\n",
       "      <th>9</th>\n",
       "      <td>Cosine</td>\n",
       "      <td>2</td>\n",
       "      <td>92.453589</td>\n",
       "      <td>92.769565</td>\n",
       "      <td>92.945067</td>\n",
       "    </tr>\n",
       "    <tr>\n",
       "      <th>10</th>\n",
       "      <td>jaccard</td>\n",
       "      <td>2</td>\n",
       "      <td>92.071941</td>\n",
       "      <td>92.916379</td>\n",
       "      <td>93.141105</td>\n",
       "    </tr>\n",
       "    <tr>\n",
       "      <th>11</th>\n",
       "      <td>levestehin</td>\n",
       "      <td>2</td>\n",
       "      <td>92.991504</td>\n",
       "      <td>93.261827</td>\n",
       "      <td>93.309758</td>\n",
       "    </tr>\n",
       "    <tr>\n",
       "      <th>12</th>\n",
       "      <td>overlap</td>\n",
       "      <td>2</td>\n",
       "      <td>92.041650</td>\n",
       "      <td>92.754451</td>\n",
       "      <td>93.012493</td>\n",
       "    </tr>\n",
       "    <tr>\n",
       "      <th>13</th>\n",
       "      <td>SBERT</td>\n",
       "      <td>2</td>\n",
       "      <td>90.972053</td>\n",
       "      <td>91.752576</td>\n",
       "      <td>92.581233</td>\n",
       "    </tr>\n",
       "    <tr>\n",
       "      <th>14</th>\n",
       "      <td>Web_similitary</td>\n",
       "      <td>2</td>\n",
       "      <td>90.489622</td>\n",
       "      <td>91.115085</td>\n",
       "      <td>92.337030</td>\n",
       "    </tr>\n",
       "    <tr>\n",
       "      <th>15</th>\n",
       "      <td>pixel_to_pixel</td>\n",
       "      <td>2</td>\n",
       "      <td>142.543475</td>\n",
       "      <td>140.577640</td>\n",
       "      <td>138.902171</td>\n",
       "    </tr>\n",
       "  </tbody>\n",
       "</table>\n",
       "</div>"
      ],
      "text/plain": [
       "           Metrica Filtro          K1          K2          k3\n",
       "0              Bag      1   93.003465   92.012757   91.531151\n",
       "1           Cosine      1   85.878574   85.948509   86.205712\n",
       "2          jaccard      1   85.293331   85.378076   85.921506\n",
       "3       levestehin      1   85.935372   86.392664   86.636424\n",
       "4          overlap      1   85.580425   86.774533   86.973723\n",
       "5            SBERT      1   84.459787   85.361863   86.148942\n",
       "6   Web_similitary      1   84.368831   85.491986   86.105283\n",
       "7   pixel_to_pixel      1  131.748107  128.047595  124.735111\n",
       "8              Bag      2   94.320718   94.134790   94.368960\n",
       "9           Cosine      2   92.453589   92.769565   92.945067\n",
       "10         jaccard      2   92.071941   92.916379   93.141105\n",
       "11      levestehin      2   92.991504   93.261827   93.309758\n",
       "12         overlap      2   92.041650   92.754451   93.012493\n",
       "13           SBERT      2   90.972053   91.752576   92.581233\n",
       "14  Web_similitary      2   90.489622   91.115085   92.337030\n",
       "15  pixel_to_pixel      2  142.543475  140.577640  138.902171"
      ]
     },
     "execution_count": 28,
     "metadata": {},
     "output_type": "execute_result"
    }
   ],
   "source": [
    "Tabla_comparativa_evaluaciones"
   ]
  },
  {
   "cell_type": "code",
   "execution_count": 29,
   "metadata": {},
   "outputs": [],
   "source": [
    "Tabla_comparativa_evaluaciones.to_excel(\"Tabla_comparativa_evaluaciones_RMSE.xlsx\")"
   ]
  },
  {
   "cell_type": "code",
   "execution_count": 30,
   "metadata": {},
   "outputs": [],
   "source": [
    "diccionario_dataset_filtro_1_para_porcentajes_de_mejoras = {\n",
    "    \"dataset_bag_filtro_1_evaluaciones\": dataset_bag_filtro_1_evaluaciones,\n",
    "    \"dataset_cosine_filtro_1_evaluaciones\": dataset_cosine_filtro_1_evaluaciones,\n",
    "    \"dataset_jaccard_filtro_1_evaluaciones\": dataset_jaccard_filtro_1_evaluaciones,\n",
    "    \"dataset_levenshtein_filtro_1_evaluaciones\": dataset_levenshtein_filtro_1_evaluaciones,\n",
    "    \"dataset_overlap_filtro_1_evaluaciones\": dataset_overlap_filtro_1_evaluaciones,\n",
    "    \"dataset_sbert_filtro_1_evaluaciones\": dataset_sbert_filtro_1_evaluaciones,\n",
    "    \"dataset_web_similitary_filtro_1_evaluaciones\": dataset_web_similitary_filtro_1_evaluaciones,\n",
    "    \"dataset_pixel_to_pixel_filtro_1_evaluaciones\": dataset_pixel_to_pixel_filtro_1_evaluaciones}\n",
    "\n",
    "diccionario_dataset_filtro_2_para_porcentajes_de_mejoras = {\n",
    "    \"dataset_bag_filtro_2_evaluaciones\": dataset_bag_filtro_2_evaluaciones,\n",
    "    \"dataset_cosine_filtro_2_evaluaciones\": dataset_cosine_filtro_2_evaluaciones,\n",
    "    \"dataset_jaccard_filtro_2_evaluaciones\": dataset_jaccard_filtro_2_evaluaciones,\n",
    "    \"dataset_levenshtein_filtro_2_evaluaciones\": dataset_levenshtein_filtro_2_evaluaciones,\n",
    "    \"dataset_overlap_filtro_2_evaluaciones\": dataset_overlap_filtro_2_evaluaciones,\n",
    "    \"dataset_sbert_filtro_2_evaluaciones\": dataset_sbert_filtro_2_evaluaciones,\n",
    "    \"dataset_web_similitary_filtro_2_evaluaciones\": dataset_web_similitary_filtro_2_evaluaciones,\n",
    "    \"dataset_pixel_to_pixel_filtro_2_evaluaciones\": dataset_pixel_to_pixel_filtro_2_evaluaciones}\n",
    "\n",
    "\n",
    "def porcentaje_mejoras_filtro_1(dataset_baseline):\n",
    "    # Hacer una copia del DataFrame original\n",
    "    dataset_base = dataset_baseline.copy()\n",
    "    \n",
    "    # Crear un diccionario para almacenar los resultados\n",
    "    diccionario_pixel_to_pixel_mejoras_filtro_1 = {}\n",
    "    \n",
    "    # Iterar sobre las claves en lista_claves\n",
    "    for x in diccionario_dataset_filtro_1_para_porcentajes_de_mejoras.keys():\n",
    "\n",
    "        #Utilizamos el metodo assing porque de forma clasica no asigna el valor\n",
    "        # calculamos porcentaje de mejora k1\n",
    "        dataset_base = dataset_base.assign(Porcentaje_de_mejora_K1=((dataset_base[\"promedio_1\"] - diccionario_dataset_filtro_1_para_porcentajes_de_mejoras[x][\"promedio_1\"])/ dataset_base[\"promedio_1\"])*100)\n",
    "\n",
    "        # calculamos porcentaje de mejora k2\n",
    "        dataset_base = dataset_base.assign(Porcentaje_de_mejora_K2=((dataset_base[\"promedio_2\"] - diccionario_dataset_filtro_1_para_porcentajes_de_mejoras[x][\"promedio_2\"]) / dataset_base[\"promedio_2\"])*100)\n",
    "\n",
    "        # calculamos porcentaje de mejora k3\n",
    "        dataset_base = dataset_base.assign(Porcentaje_de_mejora_K3=((dataset_base[\"promedio_3\"]-diccionario_dataset_filtro_1_para_porcentajes_de_mejoras[x][\"promedio_3\"]) / dataset_base[\"promedio_3\"])*100)\n",
    "\n",
    "        \n",
    "        # Guardar el resultado en el diccionario\n",
    "        diccionario_pixel_to_pixel_mejoras_filtro_1[f\"dataset_pixel_mejora_filtro_1_{x}\"] = dataset_base\n",
    "    \n",
    "    return diccionario_pixel_to_pixel_mejoras_filtro_1\n",
    "\n",
    "        "
   ]
  },
  {
   "cell_type": "code",
   "execution_count": 31,
   "metadata": {},
   "outputs": [],
   "source": [
    "def porcentaje_mejoras_filtro_2():\n",
    "    \n",
    "    diccionario_pixel_to_pixel_mejoras_filtro_2 = {}\n",
    "    #Utilizamos el metodo assing porque de forma clasica no asigna el valor\n",
    "#bag\n",
    "    # calculamos porcentaje de mejora k1\n",
    "    diccionario_dataset_filtro_2_para_porcentajes_de_mejoras[\"dataset_pixel_to_pixel_filtro_2_evaluaciones\"] = diccionario_dataset_filtro_2_para_porcentajes_de_mejoras[\"dataset_pixel_to_pixel_filtro_2_evaluaciones\"].assign(Porcentaje_de_mejora_K1=((diccionario_dataset_filtro_2_para_porcentajes_de_mejoras[\"dataset_pixel_to_pixel_filtro_2_evaluaciones\"] [\"promedio_1\"] - diccionario_dataset_filtro_2_para_porcentajes_de_mejoras[\"dataset_bag_filtro_2_evaluaciones\"][\"promedio_1\"])/ diccionario_dataset_filtro_2_para_porcentajes_de_mejoras[\"dataset_pixel_to_pixel_filtro_2_evaluaciones\"][\"promedio_1\"])*100)\n",
    "    # calculamos porcentaje de mejora k2\n",
    "    diccionario_dataset_filtro_2_para_porcentajes_de_mejoras[\"dataset_pixel_to_pixel_filtro_2_evaluaciones\"] = diccionario_dataset_filtro_2_para_porcentajes_de_mejoras[\"dataset_pixel_to_pixel_filtro_2_evaluaciones\"].assign(Porcentaje_de_mejora_K2=((diccionario_dataset_filtro_2_para_porcentajes_de_mejoras[\"dataset_pixel_to_pixel_filtro_2_evaluaciones\"] [\"promedio_2\"] - diccionario_dataset_filtro_2_para_porcentajes_de_mejoras[\"dataset_bag_filtro_2_evaluaciones\"][\"promedio_2\"])/ diccionario_dataset_filtro_2_para_porcentajes_de_mejoras[\"dataset_pixel_to_pixel_filtro_2_evaluaciones\"][\"promedio_2\"])*100)\n",
    "    # calculamos porcentaje de mejora k3\n",
    "    diccionario_dataset_filtro_2_para_porcentajes_de_mejoras[\"dataset_pixel_to_pixel_filtro_2_evaluaciones\"] = diccionario_dataset_filtro_2_para_porcentajes_de_mejoras[\"dataset_pixel_to_pixel_filtro_2_evaluaciones\"].assign(Porcentaje_de_mejora_K3=((diccionario_dataset_filtro_2_para_porcentajes_de_mejoras[\"dataset_pixel_to_pixel_filtro_2_evaluaciones\"] [\"promedio_3\"] - diccionario_dataset_filtro_2_para_porcentajes_de_mejoras[\"dataset_bag_filtro_2_evaluaciones\"][\"promedio_3\"])/ diccionario_dataset_filtro_2_para_porcentajes_de_mejoras[\"dataset_pixel_to_pixel_filtro_2_evaluaciones\"][\"promedio_3\"])*100)\n",
    "    # Guardar el resultado en el diccionario\n",
    "    diccionario_pixel_to_pixel_mejoras_filtro_2[f\"dataset_pixel_mejora_filtro_2_dataset_bag_filtro_2_evaluaciones\"] = diccionario_dataset_filtro_2_para_porcentajes_de_mejoras[\"dataset_pixel_to_pixel_filtro_2_evaluaciones\"]\n",
    "\n",
    "#cosine\n",
    "    # calculamos porcentaje de mejora k1\n",
    "    diccionario_dataset_filtro_2_para_porcentajes_de_mejoras[\"dataset_pixel_to_pixel_filtro_2_evaluaciones\"] = diccionario_dataset_filtro_2_para_porcentajes_de_mejoras[\"dataset_pixel_to_pixel_filtro_2_evaluaciones\"].assign(Porcentaje_de_mejora_K1=((diccionario_dataset_filtro_2_para_porcentajes_de_mejoras[\"dataset_pixel_to_pixel_filtro_2_evaluaciones\"] [\"promedio_1\"] - diccionario_dataset_filtro_2_para_porcentajes_de_mejoras[\"dataset_cosine_filtro_2_evaluaciones\"][\"promedio_1\"])/ diccionario_dataset_filtro_2_para_porcentajes_de_mejoras[\"dataset_pixel_to_pixel_filtro_2_evaluaciones\"][\"promedio_1\"])*100)\n",
    "    # calculamos porcentaje de mejora k2\n",
    "    diccionario_dataset_filtro_2_para_porcentajes_de_mejoras[\"dataset_pixel_to_pixel_filtro_2_evaluaciones\"] = diccionario_dataset_filtro_2_para_porcentajes_de_mejoras[\"dataset_pixel_to_pixel_filtro_2_evaluaciones\"].assign(Porcentaje_de_mejora_K2=((diccionario_dataset_filtro_2_para_porcentajes_de_mejoras[\"dataset_pixel_to_pixel_filtro_2_evaluaciones\"] [\"promedio_2\"] - diccionario_dataset_filtro_2_para_porcentajes_de_mejoras[\"dataset_cosine_filtro_2_evaluaciones\"][\"promedio_2\"])/ diccionario_dataset_filtro_2_para_porcentajes_de_mejoras[\"dataset_pixel_to_pixel_filtro_2_evaluaciones\"][\"promedio_2\"])*100)\n",
    "    # calculamos porcentaje de mejora k3\n",
    "    diccionario_dataset_filtro_2_para_porcentajes_de_mejoras[\"dataset_pixel_to_pixel_filtro_2_evaluaciones\"] = diccionario_dataset_filtro_2_para_porcentajes_de_mejoras[\"dataset_pixel_to_pixel_filtro_2_evaluaciones\"].assign(Porcentaje_de_mejora_K3=((diccionario_dataset_filtro_2_para_porcentajes_de_mejoras[\"dataset_pixel_to_pixel_filtro_2_evaluaciones\"] [\"promedio_3\"] - diccionario_dataset_filtro_2_para_porcentajes_de_mejoras[\"dataset_cosine_filtro_2_evaluaciones\"][\"promedio_3\"])/ diccionario_dataset_filtro_2_para_porcentajes_de_mejoras[\"dataset_pixel_to_pixel_filtro_2_evaluaciones\"][\"promedio_3\"])*100)\n",
    "    # Guardar el resultado en el diccionario\n",
    "    diccionario_pixel_to_pixel_mejoras_filtro_2[f\"dataset_pixel_mejora_filtro_2_dataset_cosine_filtro_2_evaluaciones\"] = diccionario_dataset_filtro_2_para_porcentajes_de_mejoras[\"dataset_pixel_to_pixel_filtro_2_evaluaciones\"]\n",
    "\n",
    "\n",
    "#jaccard\n",
    "    # calculamos porcentaje de mejora k1\n",
    "    diccionario_dataset_filtro_2_para_porcentajes_de_mejoras[\"dataset_pixel_to_pixel_filtro_2_evaluaciones\"] = diccionario_dataset_filtro_2_para_porcentajes_de_mejoras[\"dataset_pixel_to_pixel_filtro_2_evaluaciones\"].assign(Porcentaje_de_mejora_K1=((diccionario_dataset_filtro_2_para_porcentajes_de_mejoras[\"dataset_pixel_to_pixel_filtro_2_evaluaciones\"] [\"promedio_1\"] - diccionario_dataset_filtro_2_para_porcentajes_de_mejoras[\"dataset_jaccard_filtro_2_evaluaciones\"][\"promedio_1\"])/ diccionario_dataset_filtro_2_para_porcentajes_de_mejoras[\"dataset_pixel_to_pixel_filtro_2_evaluaciones\"][\"promedio_1\"])*100)\n",
    "    # calculamos porcentaje de mejora k2\n",
    "    diccionario_dataset_filtro_2_para_porcentajes_de_mejoras[\"dataset_pixel_to_pixel_filtro_2_evaluaciones\"] = diccionario_dataset_filtro_2_para_porcentajes_de_mejoras[\"dataset_pixel_to_pixel_filtro_2_evaluaciones\"].assign(Porcentaje_de_mejora_K2=((diccionario_dataset_filtro_2_para_porcentajes_de_mejoras[\"dataset_pixel_to_pixel_filtro_2_evaluaciones\"] [\"promedio_2\"] - diccionario_dataset_filtro_2_para_porcentajes_de_mejoras[\"dataset_jaccard_filtro_2_evaluaciones\"][\"promedio_2\"])/ diccionario_dataset_filtro_2_para_porcentajes_de_mejoras[\"dataset_pixel_to_pixel_filtro_2_evaluaciones\"][\"promedio_2\"])*100)\n",
    "    # calculamos porcentaje de mejora k3\n",
    "    diccionario_dataset_filtro_2_para_porcentajes_de_mejoras[\"dataset_pixel_to_pixel_filtro_2_evaluaciones\"] = diccionario_dataset_filtro_2_para_porcentajes_de_mejoras[\"dataset_pixel_to_pixel_filtro_2_evaluaciones\"].assign(Porcentaje_de_mejora_K3=((diccionario_dataset_filtro_2_para_porcentajes_de_mejoras[\"dataset_pixel_to_pixel_filtro_2_evaluaciones\"] [\"promedio_3\"] - diccionario_dataset_filtro_2_para_porcentajes_de_mejoras[\"dataset_jaccard_filtro_2_evaluaciones\"][\"promedio_3\"])/ diccionario_dataset_filtro_2_para_porcentajes_de_mejoras[\"dataset_pixel_to_pixel_filtro_2_evaluaciones\"][\"promedio_3\"])*100)\n",
    "    # Guardar el resultado en el diccionario\n",
    "    diccionario_pixel_to_pixel_mejoras_filtro_2[f\"dataset_pixel_mejora_filtro_2_dataset_jaccard_filtro_2_evaluaciones\"] = diccionario_dataset_filtro_2_para_porcentajes_de_mejoras[\"dataset_pixel_to_pixel_filtro_2_evaluaciones\"]\n",
    "\n",
    "#levenshtein\n",
    "# calculamos porcentaje de mejora k1\n",
    "    diccionario_dataset_filtro_2_para_porcentajes_de_mejoras[\"dataset_pixel_to_pixel_filtro_2_evaluaciones\"] = diccionario_dataset_filtro_2_para_porcentajes_de_mejoras[\"dataset_pixel_to_pixel_filtro_2_evaluaciones\"].assign(Porcentaje_de_mejora_K1=((diccionario_dataset_filtro_2_para_porcentajes_de_mejoras[\"dataset_pixel_to_pixel_filtro_2_evaluaciones\"] [\"promedio_1\"] - diccionario_dataset_filtro_2_para_porcentajes_de_mejoras[\"dataset_levenshtein_filtro_2_evaluaciones\"][\"promedio_1\"])/ diccionario_dataset_filtro_2_para_porcentajes_de_mejoras[\"dataset_pixel_to_pixel_filtro_2_evaluaciones\"][\"promedio_1\"])*100)\n",
    "    # calculamos porcentaje de mejora k2\n",
    "    diccionario_dataset_filtro_2_para_porcentajes_de_mejoras[\"dataset_pixel_to_pixel_filtro_2_evaluaciones\"] = diccionario_dataset_filtro_2_para_porcentajes_de_mejoras[\"dataset_pixel_to_pixel_filtro_2_evaluaciones\"].assign(Porcentaje_de_mejora_K2=((diccionario_dataset_filtro_2_para_porcentajes_de_mejoras[\"dataset_pixel_to_pixel_filtro_2_evaluaciones\"] [\"promedio_2\"] - diccionario_dataset_filtro_2_para_porcentajes_de_mejoras[\"dataset_levenshtein_filtro_2_evaluaciones\"][\"promedio_2\"])/ diccionario_dataset_filtro_2_para_porcentajes_de_mejoras[\"dataset_pixel_to_pixel_filtro_2_evaluaciones\"][\"promedio_2\"])*100)\n",
    "    # calculamos porcentaje de mejora k3\n",
    "    diccionario_dataset_filtro_2_para_porcentajes_de_mejoras[\"dataset_pixel_to_pixel_filtro_2_evaluaciones\"] = diccionario_dataset_filtro_2_para_porcentajes_de_mejoras[\"dataset_pixel_to_pixel_filtro_2_evaluaciones\"].assign(Porcentaje_de_mejora_K3=((diccionario_dataset_filtro_2_para_porcentajes_de_mejoras[\"dataset_pixel_to_pixel_filtro_2_evaluaciones\"] [\"promedio_3\"] - diccionario_dataset_filtro_2_para_porcentajes_de_mejoras[\"dataset_levenshtein_filtro_2_evaluaciones\"][\"promedio_3\"])/ diccionario_dataset_filtro_2_para_porcentajes_de_mejoras[\"dataset_pixel_to_pixel_filtro_2_evaluaciones\"][\"promedio_3\"])*100)\n",
    "    # Guardar el resultado en el diccionario\n",
    "    diccionario_pixel_to_pixel_mejoras_filtro_2[f\"dataset_pixel_mejora_filtro_2_dataset_levenshtein_filtro_2_evaluaciones\"] = diccionario_dataset_filtro_2_para_porcentajes_de_mejoras[\"dataset_pixel_to_pixel_filtro_2_evaluaciones\"]\n",
    "\n",
    "#Overlap\n",
    "    # calculamos porcentaje de mejora k1\n",
    "    diccionario_dataset_filtro_2_para_porcentajes_de_mejoras[\"dataset_pixel_to_pixel_filtro_2_evaluaciones\"] = diccionario_dataset_filtro_2_para_porcentajes_de_mejoras[\"dataset_pixel_to_pixel_filtro_2_evaluaciones\"].assign(Porcentaje_de_mejora_K1=((diccionario_dataset_filtro_2_para_porcentajes_de_mejoras[\"dataset_pixel_to_pixel_filtro_2_evaluaciones\"] [\"promedio_1\"] - diccionario_dataset_filtro_2_para_porcentajes_de_mejoras[\"dataset_overlap_filtro_2_evaluaciones\"][\"promedio_1\"])/ diccionario_dataset_filtro_2_para_porcentajes_de_mejoras[\"dataset_pixel_to_pixel_filtro_2_evaluaciones\"][\"promedio_1\"])*100)\n",
    "    # calculamos porcentaje de mejora k2\n",
    "    diccionario_dataset_filtro_2_para_porcentajes_de_mejoras[\"dataset_pixel_to_pixel_filtro_2_evaluaciones\"] = diccionario_dataset_filtro_2_para_porcentajes_de_mejoras[\"dataset_pixel_to_pixel_filtro_2_evaluaciones\"].assign(Porcentaje_de_mejora_K2=((diccionario_dataset_filtro_2_para_porcentajes_de_mejoras[\"dataset_pixel_to_pixel_filtro_2_evaluaciones\"] [\"promedio_2\"] - diccionario_dataset_filtro_2_para_porcentajes_de_mejoras[\"dataset_overlap_filtro_2_evaluaciones\"][\"promedio_2\"])/ diccionario_dataset_filtro_2_para_porcentajes_de_mejoras[\"dataset_pixel_to_pixel_filtro_2_evaluaciones\"][\"promedio_2\"])*100)\n",
    "    # calculamos porcentaje de mejora k3\n",
    "    diccionario_dataset_filtro_2_para_porcentajes_de_mejoras[\"dataset_pixel_to_pixel_filtro_2_evaluaciones\"] = diccionario_dataset_filtro_2_para_porcentajes_de_mejoras[\"dataset_pixel_to_pixel_filtro_2_evaluaciones\"].assign(Porcentaje_de_mejora_K3=((diccionario_dataset_filtro_2_para_porcentajes_de_mejoras[\"dataset_pixel_to_pixel_filtro_2_evaluaciones\"] [\"promedio_3\"] - diccionario_dataset_filtro_2_para_porcentajes_de_mejoras[\"dataset_overlap_filtro_2_evaluaciones\"][\"promedio_3\"])/ diccionario_dataset_filtro_2_para_porcentajes_de_mejoras[\"dataset_pixel_to_pixel_filtro_2_evaluaciones\"][\"promedio_3\"])*100)\n",
    "    # Guardar el resultado en el diccionario\n",
    "    diccionario_pixel_to_pixel_mejoras_filtro_2[f\"dataset_pixel_mejora_filtro_2_dataset_overlap_filtro_2_evaluaciones\"] = diccionario_dataset_filtro_2_para_porcentajes_de_mejoras[\"dataset_pixel_to_pixel_filtro_2_evaluaciones\"]\n",
    "\n",
    "\n",
    "#pixel_to_pixel (debe ser 0)\n",
    "# calculamos porcentaje de mejora k1\n",
    "    diccionario_dataset_filtro_2_para_porcentajes_de_mejoras[\"dataset_pixel_to_pixel_filtro_2_evaluaciones\"] = diccionario_dataset_filtro_2_para_porcentajes_de_mejoras[\"dataset_pixel_to_pixel_filtro_2_evaluaciones\"].assign(Porcentaje_de_mejora_K1=((diccionario_dataset_filtro_2_para_porcentajes_de_mejoras[\"dataset_pixel_to_pixel_filtro_2_evaluaciones\"] [\"promedio_1\"] - diccionario_dataset_filtro_2_para_porcentajes_de_mejoras[\"dataset_pixel_to_pixel_filtro_2_evaluaciones\"][\"promedio_1\"])/ diccionario_dataset_filtro_2_para_porcentajes_de_mejoras[\"dataset_pixel_to_pixel_filtro_2_evaluaciones\"][\"promedio_1\"])*100)\n",
    "    # calculamos porcentaje de mejora k2\n",
    "    diccionario_dataset_filtro_2_para_porcentajes_de_mejoras[\"dataset_pixel_to_pixel_filtro_2_evaluaciones\"] = diccionario_dataset_filtro_2_para_porcentajes_de_mejoras[\"dataset_pixel_to_pixel_filtro_2_evaluaciones\"].assign(Porcentaje_de_mejora_K2=((diccionario_dataset_filtro_2_para_porcentajes_de_mejoras[\"dataset_pixel_to_pixel_filtro_2_evaluaciones\"] [\"promedio_2\"] - diccionario_dataset_filtro_2_para_porcentajes_de_mejoras[\"dataset_pixel_to_pixel_filtro_2_evaluaciones\"][\"promedio_2\"])/ diccionario_dataset_filtro_2_para_porcentajes_de_mejoras[\"dataset_pixel_to_pixel_filtro_2_evaluaciones\"][\"promedio_2\"])*100)\n",
    "    # calculamos porcentaje de mejora k3\n",
    "    diccionario_dataset_filtro_2_para_porcentajes_de_mejoras[\"dataset_pixel_to_pixel_filtro_2_evaluaciones\"] = diccionario_dataset_filtro_2_para_porcentajes_de_mejoras[\"dataset_pixel_to_pixel_filtro_2_evaluaciones\"].assign(Porcentaje_de_mejora_K3=((diccionario_dataset_filtro_2_para_porcentajes_de_mejoras[\"dataset_pixel_to_pixel_filtro_2_evaluaciones\"] [\"promedio_3\"] - diccionario_dataset_filtro_2_para_porcentajes_de_mejoras[\"dataset_pixel_to_pixel_filtro_2_evaluaciones\"][\"promedio_3\"])/ diccionario_dataset_filtro_2_para_porcentajes_de_mejoras[\"dataset_pixel_to_pixel_filtro_2_evaluaciones\"][\"promedio_3\"])*100)\n",
    "    # Guardar el resultado en el diccionario\n",
    "    diccionario_pixel_to_pixel_mejoras_filtro_2[f\"dataset_pixel_mejora_filtro_2_dataset_pixel_to_pixel_filtro_2_evaluaciones\"] = diccionario_dataset_filtro_2_para_porcentajes_de_mejoras[\"dataset_pixel_to_pixel_filtro_2_evaluaciones\"]\n",
    "\n",
    "#Sbert\n",
    "#calculamos porcentaje de mejora k1\n",
    "    diccionario_dataset_filtro_2_para_porcentajes_de_mejoras[\"dataset_pixel_to_pixel_filtro_2_evaluaciones\"] = diccionario_dataset_filtro_2_para_porcentajes_de_mejoras[\"dataset_pixel_to_pixel_filtro_2_evaluaciones\"].assign(Porcentaje_de_mejora_K1=((diccionario_dataset_filtro_2_para_porcentajes_de_mejoras[\"dataset_pixel_to_pixel_filtro_2_evaluaciones\"] [\"promedio_1\"] - diccionario_dataset_filtro_2_para_porcentajes_de_mejoras[\"dataset_sbert_filtro_2_evaluaciones\"][\"promedio_1\"])/ diccionario_dataset_filtro_2_para_porcentajes_de_mejoras[\"dataset_pixel_to_pixel_filtro_2_evaluaciones\"][\"promedio_1\"])*100)\n",
    "    #calculamos porcentaje de mejora k2\n",
    "    diccionario_dataset_filtro_2_para_porcentajes_de_mejoras[\"dataset_pixel_to_pixel_filtro_2_evaluaciones\"] = diccionario_dataset_filtro_2_para_porcentajes_de_mejoras[\"dataset_pixel_to_pixel_filtro_2_evaluaciones\"].assign(Porcentaje_de_mejora_K2=((diccionario_dataset_filtro_2_para_porcentajes_de_mejoras[\"dataset_pixel_to_pixel_filtro_2_evaluaciones\"] [\"promedio_2\"] - diccionario_dataset_filtro_2_para_porcentajes_de_mejoras[\"dataset_sbert_filtro_2_evaluaciones\"][\"promedio_2\"])/ diccionario_dataset_filtro_2_para_porcentajes_de_mejoras[\"dataset_pixel_to_pixel_filtro_2_evaluaciones\"][\"promedio_2\"])*100)\n",
    "    #calculamos porcentaje de mejora k3\n",
    "    diccionario_dataset_filtro_2_para_porcentajes_de_mejoras[\"dataset_pixel_to_pixel_filtro_2_evaluaciones\"] = diccionario_dataset_filtro_2_para_porcentajes_de_mejoras[\"dataset_pixel_to_pixel_filtro_2_evaluaciones\"].assign(Porcentaje_de_mejora_K3=((diccionario_dataset_filtro_2_para_porcentajes_de_mejoras[\"dataset_pixel_to_pixel_filtro_2_evaluaciones\"] [\"promedio_3\"] - diccionario_dataset_filtro_2_para_porcentajes_de_mejoras[\"dataset_sbert_filtro_2_evaluaciones\"][\"promedio_3\"])/ diccionario_dataset_filtro_2_para_porcentajes_de_mejoras[\"dataset_pixel_to_pixel_filtro_2_evaluaciones\"][\"promedio_3\"])*100)\n",
    "    #Guardar el resultado en el diccionario\n",
    "    diccionario_pixel_to_pixel_mejoras_filtro_2[f\"dataset_pixel_mejora_filtro_2_dataset_sbert_filtro_2_evaluaciones\"] = diccionario_dataset_filtro_2_para_porcentajes_de_mejoras[\"dataset_pixel_to_pixel_filtro_2_evaluaciones\"]\n",
    "\n",
    "\n",
    "# Web_similitary\n",
    "# calculamos porcentaje de mejora k1\n",
    "    diccionario_dataset_filtro_2_para_porcentajes_de_mejoras[\"dataset_pixel_to_pixel_filtro_2_evaluaciones\"] = diccionario_dataset_filtro_2_para_porcentajes_de_mejoras[\"dataset_pixel_to_pixel_filtro_2_evaluaciones\"].assign(Porcentaje_de_mejora_K1=((diccionario_dataset_filtro_2_para_porcentajes_de_mejoras[\"dataset_pixel_to_pixel_filtro_2_evaluaciones\"] [\"promedio_1\"] - diccionario_dataset_filtro_2_para_porcentajes_de_mejoras[\"dataset_web_similitary_filtro_2_evaluaciones\"][\"promedio_1\"])/ diccionario_dataset_filtro_2_para_porcentajes_de_mejoras[\"dataset_pixel_to_pixel_filtro_2_evaluaciones\"][\"promedio_1\"])*100)\n",
    "    # calculamos porcentaje de mejora k2\n",
    "    diccionario_dataset_filtro_2_para_porcentajes_de_mejoras[\"dataset_pixel_to_pixel_filtro_2_evaluaciones\"] = diccionario_dataset_filtro_2_para_porcentajes_de_mejoras[\"dataset_pixel_to_pixel_filtro_2_evaluaciones\"].assign(Porcentaje_de_mejora_K2=((diccionario_dataset_filtro_2_para_porcentajes_de_mejoras[\"dataset_pixel_to_pixel_filtro_2_evaluaciones\"] [\"promedio_2\"] - diccionario_dataset_filtro_2_para_porcentajes_de_mejoras[\"dataset_web_similitary_filtro_2_evaluaciones\"][\"promedio_2\"])/ diccionario_dataset_filtro_2_para_porcentajes_de_mejoras[\"dataset_pixel_to_pixel_filtro_2_evaluaciones\"][\"promedio_2\"])*100)\n",
    "    # calculamos porcentaje de mejora k3\n",
    "    diccionario_dataset_filtro_2_para_porcentajes_de_mejoras[\"dataset_pixel_to_pixel_filtro_2_evaluaciones\"] = diccionario_dataset_filtro_2_para_porcentajes_de_mejoras[\"dataset_pixel_to_pixel_filtro_2_evaluaciones\"].assign(Porcentaje_de_mejora_K3=((diccionario_dataset_filtro_2_para_porcentajes_de_mejoras[\"dataset_pixel_to_pixel_filtro_2_evaluaciones\"] [\"promedio_3\"] - diccionario_dataset_filtro_2_para_porcentajes_de_mejoras[\"dataset_web_similitary_filtro_2_evaluaciones\"][\"promedio_3\"])/ diccionario_dataset_filtro_2_para_porcentajes_de_mejoras[\"dataset_pixel_to_pixel_filtro_2_evaluaciones\"][\"promedio_3\"])*100)\n",
    "    # Guardar el resultado en el diccionario\n",
    "    diccionario_pixel_to_pixel_mejoras_filtro_2[f\"dataset_pixel_mejora_filtro_2_dataset_web_similitary_filtro_2_evaluaciones\"] = diccionario_dataset_filtro_2_para_porcentajes_de_mejoras[\"dataset_pixel_to_pixel_filtro_2_evaluaciones\"]\n",
    "\n",
    "    \n",
    "    return diccionario_pixel_to_pixel_mejoras_filtro_2"
   ]
  },
  {
   "cell_type": "code",
   "execution_count": 32,
   "metadata": {},
   "outputs": [],
   "source": [
    "# Porcentajes de mejora de filtro 1\n",
    "diccionario_porcentajes_mejoras_filtro_1=porcentaje_mejoras_filtro_1(diccionario_dataset_filtro_1_para_porcentajes_de_mejoras[\"dataset_pixel_to_pixel_filtro_1_evaluaciones\"])"
   ]
  },
  {
   "cell_type": "code",
   "execution_count": 33,
   "metadata": {},
   "outputs": [],
   "source": [
    "#Porcentajes de mejora de filtro 2\n",
    "diccionario_porcentajes_mejoras_filtro_2=porcentaje_mejoras_filtro_2()"
   ]
  },
  {
   "cell_type": "markdown",
   "metadata": {},
   "source": [
    "## Tabla de comparativas"
   ]
  },
  {
   "cell_type": "code",
   "execution_count": 34,
   "metadata": {},
   "outputs": [],
   "source": [
    "#Valores para K1\n",
    "Promedio_porcentaje_mejora_pixel_v_bag_K1_filtro_1=diccionario_porcentajes_mejoras_filtro_1[\"dataset_pixel_mejora_filtro_1_dataset_bag_filtro_1_evaluaciones\"].Porcentaje_de_mejora_K1.mean()\n",
    "Promedio_porcentaje_mejora_pixel_v_cosine_K1_filtro_1= diccionario_porcentajes_mejoras_filtro_1[\"dataset_pixel_mejora_filtro_1_dataset_cosine_filtro_1_evaluaciones\"].Porcentaje_de_mejora_K1.mean()\n",
    "Promedio_porcentaje_mejora_pixel_v_jaccard_K1_filtro_1= diccionario_porcentajes_mejoras_filtro_1[\"dataset_pixel_mejora_filtro_1_dataset_jaccard_filtro_1_evaluaciones\"].Porcentaje_de_mejora_K1.mean()\n",
    "Promedio_porcentaje_mejora_pixel_v_levestehinh_K1_filtro_1= diccionario_porcentajes_mejoras_filtro_1[\"dataset_pixel_mejora_filtro_1_dataset_levenshtein_filtro_1_evaluaciones\"].Porcentaje_de_mejora_K1.mean()\n",
    "Promedio_porcentaje_mejora_pixel_v_overlap_K1_filtro_1= diccionario_porcentajes_mejoras_filtro_1[\"dataset_pixel_mejora_filtro_1_dataset_overlap_filtro_1_evaluaciones\"].Porcentaje_de_mejora_K1.mean()\n",
    "Promedio_porcentaje_mejora_pixel_v_sbert_K1_filtro_1= diccionario_porcentajes_mejoras_filtro_1[\"dataset_pixel_mejora_filtro_1_dataset_sbert_filtro_1_evaluaciones\"].Porcentaje_de_mejora_K1.mean()\n",
    "Promedio_porcentaje_mejora_pixel_v_web_similitary_K1_filtro_1= diccionario_porcentajes_mejoras_filtro_1[\"dataset_pixel_mejora_filtro_1_dataset_web_similitary_filtro_1_evaluaciones\"].Porcentaje_de_mejora_K1.mean()\n",
    "Promedio_porcentaje_mejora_pixel_v_pixel_K1_filtro_1= diccionario_porcentajes_mejoras_filtro_1[\"dataset_pixel_mejora_filtro_1_dataset_pixel_to_pixel_filtro_1_evaluaciones\"].Porcentaje_de_mejora_K1.mean()\n",
    "\n",
    "Promedio_porcentaje_mejora_pixel_v_bag_K1_filtro_2= diccionario_porcentajes_mejoras_filtro_2[\"dataset_pixel_mejora_filtro_2_dataset_bag_filtro_2_evaluaciones\"].Porcentaje_de_mejora_K1.mean()\n",
    "Promedio_porcentaje_mejora_pixel_v_cosine_K1_filtro_2= diccionario_porcentajes_mejoras_filtro_2[\"dataset_pixel_mejora_filtro_2_dataset_cosine_filtro_2_evaluaciones\"].Porcentaje_de_mejora_K1.mean()\n",
    "Promedio_porcentaje_mejora_pixel_v_jaccard_K1_filtro_2= diccionario_porcentajes_mejoras_filtro_2[\"dataset_pixel_mejora_filtro_2_dataset_jaccard_filtro_2_evaluaciones\"].Porcentaje_de_mejora_K1.mean()\n",
    "Promedio_porcentaje_mejora_pixel_v_levestehinh_K1_filtro_2= diccionario_porcentajes_mejoras_filtro_2[\"dataset_pixel_mejora_filtro_2_dataset_levenshtein_filtro_2_evaluaciones\"].Porcentaje_de_mejora_K1.mean()\n",
    "Promedio_porcentaje_mejora_pixel_v_overlap_K1_filtro_2= diccionario_porcentajes_mejoras_filtro_2[\"dataset_pixel_mejora_filtro_2_dataset_overlap_filtro_2_evaluaciones\"].Porcentaje_de_mejora_K1.mean()\n",
    "Promedio_porcentaje_mejora_pixel_v_sbert_K1_filtro_2= diccionario_porcentajes_mejoras_filtro_2[\"dataset_pixel_mejora_filtro_2_dataset_sbert_filtro_2_evaluaciones\"].Porcentaje_de_mejora_K1.mean()\n",
    "Promedio_porcentaje_mejora_pixel_v_web_similitary_K1_filtro_2= diccionario_porcentajes_mejoras_filtro_2[\"dataset_pixel_mejora_filtro_2_dataset_web_similitary_filtro_2_evaluaciones\"].Porcentaje_de_mejora_K1.mean()\n",
    "Promedio_porcentaje_mejora_pixel_v_pixel_K1_filtro_2= diccionario_porcentajes_mejoras_filtro_2[\"dataset_pixel_mejora_filtro_2_dataset_pixel_to_pixel_filtro_2_evaluaciones\"].Porcentaje_de_mejora_K1.mean()\n",
    "\n",
    "\n",
    "\n",
    "Valores_k1=[\n",
    "\n",
    "    Promedio_porcentaje_mejora_pixel_v_bag_K1_filtro_1,\n",
    "    Promedio_porcentaje_mejora_pixel_v_cosine_K1_filtro_1,\n",
    "    Promedio_porcentaje_mejora_pixel_v_jaccard_K1_filtro_1,\n",
    "    Promedio_porcentaje_mejora_pixel_v_levestehinh_K1_filtro_1,\n",
    "    Promedio_porcentaje_mejora_pixel_v_overlap_K1_filtro_1,\n",
    "    Promedio_porcentaje_mejora_pixel_v_sbert_K1_filtro_1,\n",
    "    Promedio_porcentaje_mejora_pixel_v_web_similitary_K1_filtro_1,\n",
    "    Promedio_porcentaje_mejora_pixel_v_pixel_K1_filtro_1,\n",
    "\n",
    "    Promedio_porcentaje_mejora_pixel_v_bag_K1_filtro_2,\n",
    "    Promedio_porcentaje_mejora_pixel_v_cosine_K1_filtro_2,\n",
    "    Promedio_porcentaje_mejora_pixel_v_jaccard_K1_filtro_2,\n",
    "    Promedio_porcentaje_mejora_pixel_v_levestehinh_K1_filtro_2,\n",
    "    Promedio_porcentaje_mejora_pixel_v_overlap_K1_filtro_2,\n",
    "    Promedio_porcentaje_mejora_pixel_v_sbert_K1_filtro_2,\n",
    "    Promedio_porcentaje_mejora_pixel_v_web_similitary_K1_filtro_2,\n",
    "    Promedio_porcentaje_mejora_pixel_v_pixel_K1_filtro_2\n",
    "]\n",
    "\n",
    "\n",
    "\n",
    "#Valores para k2\n",
    "Promedio_porcentaje_mejora_pixel_v_bag_K2_filtro_1= diccionario_porcentajes_mejoras_filtro_1[\"dataset_pixel_mejora_filtro_1_dataset_bag_filtro_1_evaluaciones\"].Porcentaje_de_mejora_K2.mean()\n",
    "Promedio_porcentaje_mejora_pixel_v_cosine_K2_filtro_1= diccionario_porcentajes_mejoras_filtro_1[\"dataset_pixel_mejora_filtro_1_dataset_cosine_filtro_1_evaluaciones\"].Porcentaje_de_mejora_K2.mean()\n",
    "Promedio_porcentaje_mejora_pixel_v_jaccard_K2_filtro_1= diccionario_porcentajes_mejoras_filtro_1[\"dataset_pixel_mejora_filtro_1_dataset_jaccard_filtro_1_evaluaciones\"].Porcentaje_de_mejora_K2.mean()\n",
    "Promedio_porcentaje_mejora_pixel_v_levestehinh_K2_filtro_1= diccionario_porcentajes_mejoras_filtro_1[\"dataset_pixel_mejora_filtro_1_dataset_levenshtein_filtro_1_evaluaciones\"].Porcentaje_de_mejora_K2.mean()\n",
    "Promedio_porcentaje_mejora_pixel_v_overlap_K2_filtro_1= diccionario_porcentajes_mejoras_filtro_1[\"dataset_pixel_mejora_filtro_1_dataset_overlap_filtro_1_evaluaciones\"].Porcentaje_de_mejora_K2.mean()\n",
    "Promedio_porcentaje_mejora_pixel_v_sbert_K2_filtro_1= diccionario_porcentajes_mejoras_filtro_1[\"dataset_pixel_mejora_filtro_1_dataset_sbert_filtro_1_evaluaciones\"].Porcentaje_de_mejora_K2.mean()\n",
    "Promedio_porcentaje_mejora_pixel_v_web_similitary_K2_filtro_1= diccionario_porcentajes_mejoras_filtro_1[\"dataset_pixel_mejora_filtro_1_dataset_web_similitary_filtro_1_evaluaciones\"].Porcentaje_de_mejora_K2.mean()\n",
    "Promedio_porcentaje_mejora_pixel_v_pixel_K2_filtro_1 = diccionario_porcentajes_mejoras_filtro_1[\"dataset_pixel_mejora_filtro_1_dataset_pixel_to_pixel_filtro_1_evaluaciones\"].Porcentaje_de_mejora_K2.mean()\n",
    "\n",
    "\n",
    "\n",
    "Promedio_porcentaje_mejora_pixel_v_bag_K2_filtro_2= diccionario_porcentajes_mejoras_filtro_2[\"dataset_pixel_mejora_filtro_2_dataset_bag_filtro_2_evaluaciones\"].Porcentaje_de_mejora_K2.mean()\n",
    "Promedio_porcentaje_mejora_pixel_v_cosine_K2_filtro_2= diccionario_porcentajes_mejoras_filtro_2[\"dataset_pixel_mejora_filtro_2_dataset_cosine_filtro_2_evaluaciones\"].Porcentaje_de_mejora_K2.mean()\n",
    "Promedio_porcentaje_mejora_pixel_v_jaccard_K2_filtro_2= diccionario_porcentajes_mejoras_filtro_2[\"dataset_pixel_mejora_filtro_2_dataset_jaccard_filtro_2_evaluaciones\"].Porcentaje_de_mejora_K2.mean()\n",
    "Promedio_porcentaje_mejora_pixel_v_levestehinh_K2_filtro_2= diccionario_porcentajes_mejoras_filtro_2[\"dataset_pixel_mejora_filtro_2_dataset_levenshtein_filtro_2_evaluaciones\"].Porcentaje_de_mejora_K2.mean()\n",
    "Promedio_porcentaje_mejora_pixel_v_overlap_K2_filtro_2= diccionario_porcentajes_mejoras_filtro_2[\"dataset_pixel_mejora_filtro_2_dataset_overlap_filtro_2_evaluaciones\"].Porcentaje_de_mejora_K2.mean()\n",
    "Promedio_porcentaje_mejora_pixel_v_sbert_K2_filtro_2= diccionario_porcentajes_mejoras_filtro_2[\"dataset_pixel_mejora_filtro_2_dataset_sbert_filtro_2_evaluaciones\"].Porcentaje_de_mejora_K2.mean()\n",
    "Promedio_porcentaje_mejora_pixel_v_web_similitary_K2_filtro_2= diccionario_porcentajes_mejoras_filtro_2[\"dataset_pixel_mejora_filtro_2_dataset_web_similitary_filtro_2_evaluaciones\"].Porcentaje_de_mejora_K2.mean()\n",
    "Promedio_porcentaje_mejora_pixel_v_pixel_K2_filtro_2 = diccionario_porcentajes_mejoras_filtro_2[\"dataset_pixel_mejora_filtro_2_dataset_pixel_to_pixel_filtro_2_evaluaciones\"].Porcentaje_de_mejora_K2.mean()\n",
    "\n",
    "Valores_k2=[\n",
    "\n",
    "    Promedio_porcentaje_mejora_pixel_v_bag_K2_filtro_1,\n",
    "    Promedio_porcentaje_mejora_pixel_v_cosine_K2_filtro_1,\n",
    "    Promedio_porcentaje_mejora_pixel_v_jaccard_K2_filtro_1,\n",
    "    Promedio_porcentaje_mejora_pixel_v_levestehinh_K2_filtro_1,\n",
    "    Promedio_porcentaje_mejora_pixel_v_overlap_K2_filtro_1,\n",
    "    Promedio_porcentaje_mejora_pixel_v_sbert_K2_filtro_1,\n",
    "    Promedio_porcentaje_mejora_pixel_v_web_similitary_K2_filtro_1,\n",
    "    Promedio_porcentaje_mejora_pixel_v_pixel_K2_filtro_1,\n",
    "\n",
    "    Promedio_porcentaje_mejora_pixel_v_bag_K2_filtro_2,\n",
    "    Promedio_porcentaje_mejora_pixel_v_cosine_K2_filtro_2,\n",
    "    Promedio_porcentaje_mejora_pixel_v_jaccard_K2_filtro_2,\n",
    "    Promedio_porcentaje_mejora_pixel_v_levestehinh_K2_filtro_2,\n",
    "    Promedio_porcentaje_mejora_pixel_v_overlap_K2_filtro_2,\n",
    "    Promedio_porcentaje_mejora_pixel_v_sbert_K2_filtro_2,\n",
    "    Promedio_porcentaje_mejora_pixel_v_web_similitary_K2_filtro_2,\n",
    "    Promedio_porcentaje_mejora_pixel_v_pixel_K2_filtro_2\n",
    "]\n",
    "\n",
    "\n",
    "#Valores para k3\n",
    "Promedio_porcentaje_mejora_pixel_v_bag_K3_filtro_1= diccionario_porcentajes_mejoras_filtro_1[\"dataset_pixel_mejora_filtro_1_dataset_bag_filtro_1_evaluaciones\"].Porcentaje_de_mejora_K3.mean()\n",
    "Promedio_porcentaje_mejora_pixel_v_cosine_K3_filtro_1= diccionario_porcentajes_mejoras_filtro_1[\"dataset_pixel_mejora_filtro_1_dataset_cosine_filtro_1_evaluaciones\"].Porcentaje_de_mejora_K3.mean()\n",
    "Promedio_porcentaje_mejora_pixel_v_jaccard_K3_filtro_1= diccionario_porcentajes_mejoras_filtro_1[\"dataset_pixel_mejora_filtro_1_dataset_jaccard_filtro_1_evaluaciones\"].Porcentaje_de_mejora_K3.mean()\n",
    "Promedio_porcentaje_mejora_pixel_v_levestehinh_K3_filtro_1= diccionario_porcentajes_mejoras_filtro_1[\"dataset_pixel_mejora_filtro_1_dataset_levenshtein_filtro_1_evaluaciones\"].Porcentaje_de_mejora_K3.mean()\n",
    "Promedio_porcentaje_mejora_pixel_v_overlap_K3_filtro_1= diccionario_porcentajes_mejoras_filtro_1[\"dataset_pixel_mejora_filtro_1_dataset_overlap_filtro_1_evaluaciones\"].Porcentaje_de_mejora_K3.mean()\n",
    "Promedio_porcentaje_mejora_pixel_v_sbert_K3_filtro_1= diccionario_porcentajes_mejoras_filtro_1[\"dataset_pixel_mejora_filtro_1_dataset_sbert_filtro_1_evaluaciones\"].Porcentaje_de_mejora_K3.mean()\n",
    "Promedio_porcentaje_mejora_pixel_v_web_similitary_K3_filtro_1= diccionario_porcentajes_mejoras_filtro_1[\"dataset_pixel_mejora_filtro_1_dataset_web_similitary_filtro_1_evaluaciones\"].Porcentaje_de_mejora_K3.mean()\n",
    "Promedio_porcentaje_mejora_pixel_v_pixel_K3_filtro_1= diccionario_porcentajes_mejoras_filtro_1[\"dataset_pixel_mejora_filtro_1_dataset_pixel_to_pixel_filtro_1_evaluaciones\"].Porcentaje_de_mejora_K3.mean()\n",
    "\n",
    "\n",
    "\n",
    "Promedio_porcentaje_mejora_pixel_v_bag_K3_filtro_2= diccionario_porcentajes_mejoras_filtro_2[\"dataset_pixel_mejora_filtro_2_dataset_bag_filtro_2_evaluaciones\"].Porcentaje_de_mejora_K3.mean()\n",
    "Promedio_porcentaje_mejora_pixel_v_cosine_K3_filtro_2= diccionario_porcentajes_mejoras_filtro_2[\"dataset_pixel_mejora_filtro_2_dataset_cosine_filtro_2_evaluaciones\"].Porcentaje_de_mejora_K3.mean()\n",
    "Promedio_porcentaje_mejora_pixel_v_jaccard_K3_filtro_2= diccionario_porcentajes_mejoras_filtro_2[\"dataset_pixel_mejora_filtro_2_dataset_jaccard_filtro_2_evaluaciones\"].Porcentaje_de_mejora_K3.mean()\n",
    "Promedio_porcentaje_mejora_pixel_v_levestehinh_K3_filtro_2= diccionario_porcentajes_mejoras_filtro_2[\"dataset_pixel_mejora_filtro_2_dataset_levenshtein_filtro_2_evaluaciones\"].Porcentaje_de_mejora_K3.mean()\n",
    "Promedio_porcentaje_mejora_pixel_v_overlap_K3_filtro_2= diccionario_porcentajes_mejoras_filtro_2[\"dataset_pixel_mejora_filtro_2_dataset_overlap_filtro_2_evaluaciones\"].Porcentaje_de_mejora_K3.mean()\n",
    "Promedio_porcentaje_mejora_pixel_v_sbert_K3_filtro_2= diccionario_porcentajes_mejoras_filtro_2[\"dataset_pixel_mejora_filtro_2_dataset_sbert_filtro_2_evaluaciones\"].Porcentaje_de_mejora_K3.mean()\n",
    "Promedio_porcentaje_mejora_pixel_v_web_similitary_K3_filtro_2= diccionario_porcentajes_mejoras_filtro_2[\"dataset_pixel_mejora_filtro_2_dataset_web_similitary_filtro_2_evaluaciones\"].Porcentaje_de_mejora_K3.mean()\n",
    "Promedio_porcentaje_mejora_pixel_v_pixel_K3_filtro_2= diccionario_porcentajes_mejoras_filtro_2[\"dataset_pixel_mejora_filtro_2_dataset_pixel_to_pixel_filtro_2_evaluaciones\"].Porcentaje_de_mejora_K3.mean()\n",
    "\n",
    "\n",
    "\n",
    "Valores_k3=[\n",
    "\n",
    "    Promedio_porcentaje_mejora_pixel_v_bag_K3_filtro_1,\n",
    "    Promedio_porcentaje_mejora_pixel_v_cosine_K3_filtro_1,\n",
    "    Promedio_porcentaje_mejora_pixel_v_jaccard_K3_filtro_1,\n",
    "    Promedio_porcentaje_mejora_pixel_v_levestehinh_K3_filtro_1,\n",
    "    Promedio_porcentaje_mejora_pixel_v_overlap_K3_filtro_1,\n",
    "    Promedio_porcentaje_mejora_pixel_v_sbert_K3_filtro_1,\n",
    "    Promedio_porcentaje_mejora_pixel_v_web_similitary_K3_filtro_1,\n",
    "    Promedio_porcentaje_mejora_pixel_v_pixel_K3_filtro_1,\n",
    "\n",
    "    Promedio_porcentaje_mejora_pixel_v_bag_K3_filtro_2,\n",
    "    Promedio_porcentaje_mejora_pixel_v_cosine_K3_filtro_2,\n",
    "    Promedio_porcentaje_mejora_pixel_v_jaccard_K3_filtro_2,\n",
    "    Promedio_porcentaje_mejora_pixel_v_levestehinh_K3_filtro_2,\n",
    "    Promedio_porcentaje_mejora_pixel_v_overlap_K3_filtro_2,\n",
    "    Promedio_porcentaje_mejora_pixel_v_sbert_K3_filtro_2,\n",
    "    Promedio_porcentaje_mejora_pixel_v_web_similitary_K3_filtro_2,\n",
    "    Promedio_porcentaje_mejora_pixel_v_pixel_K3_filtro_2\n",
    "]"
   ]
  },
  {
   "cell_type": "code",
   "execution_count": 35,
   "metadata": {},
   "outputs": [],
   "source": [
    "Tabla_comparativa= {\n",
    "    'Metrica':[\"Bag\", \"Cosine\", \"jaccard\", \"levestehin\",\"overlap\", \"SBERT\", \"Web_similitary\",\"pixel_to_pixel\", \"Bag\", \"Cosine\", \"jaccard\", \"levestehin\",\"overlap\", \"SBERT\", \"Web_similitary\",\"pixel_to_pixel\"],\n",
    "    'Filtro':[\"1\",\"1\",\"1\",\"1\",\"1\",\"1\",\"1\",\"1\",\"2\",\"2\",\"2\",\"2\",\"2\",\"2\",\"2\",\"2\"],\n",
    "    'K1':Valores_k1,\n",
    "    'K2':Valores_k2,\n",
    "    'k3':Valores_k3\n",
    "}\n",
    "\n",
    "Tabla_comparativa=pd.DataFrame(Tabla_comparativa)"
   ]
  },
  {
   "cell_type": "code",
   "execution_count": 26,
   "metadata": {},
   "outputs": [
    {
     "data": {
      "text/html": [
       "<div>\n",
       "<style scoped>\n",
       "    .dataframe tbody tr th:only-of-type {\n",
       "        vertical-align: middle;\n",
       "    }\n",
       "\n",
       "    .dataframe tbody tr th {\n",
       "        vertical-align: top;\n",
       "    }\n",
       "\n",
       "    .dataframe thead th {\n",
       "        text-align: right;\n",
       "    }\n",
       "</style>\n",
       "<table border=\"1\" class=\"dataframe\">\n",
       "  <thead>\n",
       "    <tr style=\"text-align: right;\">\n",
       "      <th></th>\n",
       "      <th>Metrica</th>\n",
       "      <th>Filtro</th>\n",
       "      <th>K1</th>\n",
       "      <th>K2</th>\n",
       "      <th>k3</th>\n",
       "    </tr>\n",
       "  </thead>\n",
       "  <tbody>\n",
       "    <tr>\n",
       "      <th>0</th>\n",
       "      <td>Bag</td>\n",
       "      <td>1</td>\n",
       "      <td>28.633388</td>\n",
       "      <td>27.472619</td>\n",
       "      <td>26.022481</td>\n",
       "    </tr>\n",
       "    <tr>\n",
       "      <th>1</th>\n",
       "      <td>Cosine</td>\n",
       "      <td>1</td>\n",
       "      <td>34.346959</td>\n",
       "      <td>32.429431</td>\n",
       "      <td>30.398712</td>\n",
       "    </tr>\n",
       "    <tr>\n",
       "      <th>2</th>\n",
       "      <td>jaccard</td>\n",
       "      <td>1</td>\n",
       "      <td>34.758117</td>\n",
       "      <td>32.850958</td>\n",
       "      <td>30.653716</td>\n",
       "    </tr>\n",
       "    <tr>\n",
       "      <th>3</th>\n",
       "      <td>levestehin</td>\n",
       "      <td>1</td>\n",
       "      <td>34.357299</td>\n",
       "      <td>32.131047</td>\n",
       "      <td>30.119245</td>\n",
       "    </tr>\n",
       "    <tr>\n",
       "      <th>4</th>\n",
       "      <td>overlap</td>\n",
       "      <td>1</td>\n",
       "      <td>34.479022</td>\n",
       "      <td>31.783230</td>\n",
       "      <td>29.763685</td>\n",
       "    </tr>\n",
       "    <tr>\n",
       "      <th>5</th>\n",
       "      <td>SBERT</td>\n",
       "      <td>1</td>\n",
       "      <td>35.345149</td>\n",
       "      <td>32.964346</td>\n",
       "      <td>30.580215</td>\n",
       "    </tr>\n",
       "    <tr>\n",
       "      <th>6</th>\n",
       "      <td>Web_similitary</td>\n",
       "      <td>1</td>\n",
       "      <td>35.330869</td>\n",
       "      <td>32.792108</td>\n",
       "      <td>30.577502</td>\n",
       "    </tr>\n",
       "    <tr>\n",
       "      <th>7</th>\n",
       "      <td>pixel_to_pixel</td>\n",
       "      <td>1</td>\n",
       "      <td>0.000000</td>\n",
       "      <td>0.000000</td>\n",
       "      <td>0.000000</td>\n",
       "    </tr>\n",
       "    <tr>\n",
       "      <th>8</th>\n",
       "      <td>Bag</td>\n",
       "      <td>2</td>\n",
       "      <td>33.490684</td>\n",
       "      <td>32.721996</td>\n",
       "      <td>31.723299</td>\n",
       "    </tr>\n",
       "    <tr>\n",
       "      <th>9</th>\n",
       "      <td>Cosine</td>\n",
       "      <td>2</td>\n",
       "      <td>34.698765</td>\n",
       "      <td>33.513906</td>\n",
       "      <td>32.630786</td>\n",
       "    </tr>\n",
       "    <tr>\n",
       "      <th>10</th>\n",
       "      <td>jaccard</td>\n",
       "      <td>2</td>\n",
       "      <td>34.990653</td>\n",
       "      <td>33.456705</td>\n",
       "      <td>32.486820</td>\n",
       "    </tr>\n",
       "    <tr>\n",
       "      <th>11</th>\n",
       "      <td>levestehin</td>\n",
       "      <td>2</td>\n",
       "      <td>34.387799</td>\n",
       "      <td>33.333047</td>\n",
       "      <td>32.543675</td>\n",
       "    </tr>\n",
       "    <tr>\n",
       "      <th>12</th>\n",
       "      <td>overlap</td>\n",
       "      <td>2</td>\n",
       "      <td>35.165254</td>\n",
       "      <td>33.698776</td>\n",
       "      <td>32.712232</td>\n",
       "    </tr>\n",
       "    <tr>\n",
       "      <th>13</th>\n",
       "      <td>SBERT</td>\n",
       "      <td>2</td>\n",
       "      <td>36.016769</td>\n",
       "      <td>34.483945</td>\n",
       "      <td>33.139002</td>\n",
       "    </tr>\n",
       "    <tr>\n",
       "      <th>14</th>\n",
       "      <td>Web_similitary</td>\n",
       "      <td>2</td>\n",
       "      <td>36.307407</td>\n",
       "      <td>34.922673</td>\n",
       "      <td>33.287856</td>\n",
       "    </tr>\n",
       "    <tr>\n",
       "      <th>15</th>\n",
       "      <td>pixel_to_pixel</td>\n",
       "      <td>2</td>\n",
       "      <td>0.000000</td>\n",
       "      <td>0.000000</td>\n",
       "      <td>0.000000</td>\n",
       "    </tr>\n",
       "  </tbody>\n",
       "</table>\n",
       "</div>"
      ],
      "text/plain": [
       "           Metrica Filtro         K1         K2         k3\n",
       "0              Bag      1  28.633388  27.472619  26.022481\n",
       "1           Cosine      1  34.346959  32.429431  30.398712\n",
       "2          jaccard      1  34.758117  32.850958  30.653716\n",
       "3       levestehin      1  34.357299  32.131047  30.119245\n",
       "4          overlap      1  34.479022  31.783230  29.763685\n",
       "5            SBERT      1  35.345149  32.964346  30.580215\n",
       "6   Web_similitary      1  35.330869  32.792108  30.577502\n",
       "7   pixel_to_pixel      1   0.000000   0.000000   0.000000\n",
       "8              Bag      2  33.490684  32.721996  31.723299\n",
       "9           Cosine      2  34.698765  33.513906  32.630786\n",
       "10         jaccard      2  34.990653  33.456705  32.486820\n",
       "11      levestehin      2  34.387799  33.333047  32.543675\n",
       "12         overlap      2  35.165254  33.698776  32.712232\n",
       "13           SBERT      2  36.016769  34.483945  33.139002\n",
       "14  Web_similitary      2  36.307407  34.922673  33.287856\n",
       "15  pixel_to_pixel      2   0.000000   0.000000   0.000000"
      ]
     },
     "execution_count": 26,
     "metadata": {},
     "output_type": "execute_result"
    }
   ],
   "source": [
    "Tabla_comparativa"
   ]
  },
  {
   "cell_type": "code",
   "execution_count": 38,
   "metadata": {},
   "outputs": [],
   "source": [
    "Tabla_comparativa.to_excel(\"Tabla_comparativa_RMSE.xlsx\")"
   ]
  },
  {
   "cell_type": "markdown",
   "metadata": {},
   "source": [
    "## Estudio negativos "
   ]
  },
  {
   "cell_type": "markdown",
   "metadata": {},
   "source": [
    "- Porcentaje de casos negativos con respecto al total\n"
   ]
  },
  {
   "cell_type": "code",
   "execution_count": 39,
   "metadata": {},
   "outputs": [],
   "source": [
    "def porcentaje_de_casos_negativos_respecto_total_k():\n",
    "    \n",
    "    valores_para_porcentaje=[]\n",
    "\n",
    "    for k in range(1,4):\n",
    "    # Iterar sobre las claves en lista_claves\n",
    "        for x in diccionario_porcentajes_mejoras_filtro_1.keys():\n",
    "            valores_totales=len(diccionario_porcentajes_mejoras_filtro_1[x])\n",
    "            valores_negativos= len(diccionario_porcentajes_mejoras_filtro_1[x][diccionario_porcentajes_mejoras_filtro_1[x].loc[:,f\"Porcentaje_de_mejora_K{k}\"]<0])\n",
    "            valores_para_porcentaje.extend([(valores_totales,valores_negativos,x, \"filtro_1\", k, \"bag\" if \"bag\" in x else (\"cosine\" if \"cosine\" in x else (\"jaccard\" if \"jaccard\" in x else (\"levestehin\" if \"levestehing\" in x else \n",
    "                                                                                                                                                                                             (\"overlap\" if \"overlap\" in x else\n",
    "                                                                                                                                                                                              (\"sbert\" if \"sbert\" in x else \n",
    "                                                                                                                                                                                               (\"web\" if \"web\" in x else \"pixel\")))))))])\n",
    "\n",
    "        for x in diccionario_porcentajes_mejoras_filtro_2.keys():\n",
    "            valores_totales=len(diccionario_porcentajes_mejoras_filtro_2[x])\n",
    "            valores_negativos= len(diccionario_porcentajes_mejoras_filtro_2[x][diccionario_porcentajes_mejoras_filtro_2[x].loc[:,f\"Porcentaje_de_mejora_K{k}\"]<0])\n",
    "            valores_para_porcentaje.extend([(valores_totales,valores_negativos,x, \"filtro_2\", k, \"bag\" if \"bag\" in x else (\"cosine\" if \"cosine\" in x else (\"jaccard\" if \"jaccard\" in x else (\"levestehin\" if \"levestehing\" in x else \n",
    "                                                                                                                                                                                             (\"overlap\" if \"overlap\" in x else\n",
    "                                                                                                                                                                                              (\"sbert\" if \"sbert\" in x else \n",
    "                                                                                                                                                                                               (\"web\" if \"web\" in x else \"pixel\")))))))])\n",
    "\n",
    "    return valores_para_porcentaje\n",
    "\n",
    "valores=porcentaje_de_casos_negativos_respecto_total_k()"
   ]
  },
  {
   "cell_type": "code",
   "execution_count": 40,
   "metadata": {},
   "outputs": [],
   "source": [
    "data = pd.DataFrame(columns=[\"Valores_totales\",\"Valores_negativos\",\"dataset\",\"filtro\",\"K\", \"Metrica\"], data=valores)"
   ]
  },
  {
   "cell_type": "code",
   "execution_count": 42,
   "metadata": {},
   "outputs": [],
   "source": [
    "data.to_excel(\"Estudio_negativos_RSME.xlsx\")"
   ]
  },
  {
   "cell_type": "markdown",
   "metadata": {},
   "source": [
    "# Calculos RMSE para cuestonario"
   ]
  },
  {
   "cell_type": "code",
   "execution_count": 16,
   "metadata": {},
   "outputs": [],
   "source": [
    "dataset=unpickle(\"/home/angel/Desktop/Escritorio/UCM/TFM/trabajo_local/dataset_animal_completo_info_respuesta_for_enero.pkl\")"
   ]
  },
  {
   "cell_type": "markdown",
   "metadata": {},
   "source": [
    "## Indices para formulario\n",
    "Basados en ejemplo\n",
    "Query 1: 0\n",
    "    metodo: 529\n",
    "    pixel: 762\n",
    "\n",
    "Query 2: 316\n",
    "    metodo:85\n",
    "    pixel: 28\n",
    "\n",
    "Contrafactual\n",
    "\n",
    "Query 3: 368\n",
    "    metodo:278\n",
    "    pixel: 1\n",
    "\n",
    "Query 4: 732\n",
    "    metodo: 711\n",
    "    pixel: 677\n"
   ]
  },
  {
   "cell_type": "markdown",
   "metadata": {},
   "source": [
    "## Para extraer imagenes"
   ]
  },
  {
   "cell_type": "code",
   "execution_count": 17,
   "metadata": {},
   "outputs": [
    {
     "data": {
      "image/png": "[encoded data removed]",
      "text/plain": [
       "<Figure size 640x480 with 1 Axes>"
      ]
     },
     "metadata": {},
     "output_type": "display_data"
    }
   ],
   "source": [
    "#%matplotlib notebook\n",
    "\n",
    "import matplotlib.pyplot as plt\n",
    "\n",
    "def mostrar_imagen(numero_imagen):\n",
    "    # Take the image from the dataset\n",
    "    image = numero_imagen\n",
    "    # Display the image with interpolation\n",
    "    plt.imshow(image, interpolation='bicubic')  # o use 'lanczos', 'bicubic', 'nearest' 'bilinear' para suevadad de la imagen\n",
    "    plt.title(\"Imagen\")\n",
    "    plt.axis('off')\n",
    "    plt.show()\n",
    "\n",
    "def guardar_imagen(array_image,nombre_imagen:str):\n",
    "    from PIL import Image\n",
    "    imagen = Image.fromarray(array_image)\n",
    "    # Guardar\n",
    "    return imagen.save(nombre_imagen)\n",
    "\n",
    "mostrar_imagen(dataset[dataset[\"indice_main\"]==0][\"data_lista\"].iloc[0].reshape(3,32,32).transpose(1,2,0))"
   ]
  },
  {
   "cell_type": "markdown",
   "metadata": {},
   "source": [
    "## Valores Query 1"
   ]
  },
  {
   "cell_type": "code",
   "execution_count": 28,
   "metadata": {},
   "outputs": [
    {
     "name": "stdout",
     "output_type": "stream",
     "text": [
      "el rmse entre la imagen query y el metodo es 8641.518880208334\n"
     ]
    }
   ],
   "source": [
    "rmse=rmse_manual(dataset[dataset[\"indice_main\"]==0][\"data_lista\"].iloc[0].reshape(3,32,32).transpose(1,2,0),dataset[dataset[\"indice_main\"]==529][\"data_lista\"].iloc[0].reshape(3,32,32).transpose(1,2,0))\n",
    "print(f\"el rmse entre la imagen query y el metodo es {rmse}\")"
   ]
  },
  {
   "cell_type": "code",
   "execution_count": 29,
   "metadata": {},
   "outputs": [
    {
     "name": "stdout",
     "output_type": "stream",
     "text": [
      "el rmse entre la imagen query y pixel es 11715.498372395834\n"
     ]
    }
   ],
   "source": [
    "rmse=rmse_manual(dataset[dataset[\"indice_main\"]==0][\"data_lista\"].iloc[0].reshape(3,32,32).transpose(1,2,0),dataset[dataset[\"indice_main\"]==762][\"data_lista\"].iloc[0].reshape(3,32,32).transpose(1,2,0))\n",
    "print(f\"el rmse entre la imagen query y pixel es {rmse}\")"
   ]
  },
  {
   "cell_type": "markdown",
   "metadata": {},
   "source": [
    "## Valores Query 2"
   ]
  },
  {
   "cell_type": "code",
   "execution_count": 30,
   "metadata": {},
   "outputs": [
    {
     "name": "stdout",
     "output_type": "stream",
     "text": [
      "el rmse entre la imagen query y el metodo es 3027.3570963541665\n"
     ]
    }
   ],
   "source": [
    "rmse=rmse_manual(dataset[dataset[\"indice_main\"]==316][\"data_lista\"].iloc[0].reshape(3,32,32).transpose(1,2,0),dataset[dataset[\"indice_main\"]==85][\"data_lista\"].iloc[0].reshape(3,32,32).transpose(1,2,0))\n",
    "print(f\"el rmse entre la imagen query y el metodo es {rmse}\")"
   ]
  },
  {
   "cell_type": "code",
   "execution_count": 31,
   "metadata": {},
   "outputs": [
    {
     "name": "stdout",
     "output_type": "stream",
     "text": [
      "el rmse entre la imagen query y pixel es 16818.169921875\n"
     ]
    }
   ],
   "source": [
    "rmse=rmse_manual(dataset[dataset[\"indice_main\"]==316][\"data_lista\"].iloc[0].reshape(3,32,32).transpose(1,2,0),dataset[dataset[\"indice_main\"]==28][\"data_lista\"].iloc[0].reshape(3,32,32).transpose(1,2,0))\n",
    "print(f\"el rmse entre la imagen query y pixel es {rmse}\")"
   ]
  },
  {
   "cell_type": "markdown",
   "metadata": {},
   "source": [
    "## Valores Query 3"
   ]
  },
  {
   "cell_type": "code",
   "execution_count": 32,
   "metadata": {},
   "outputs": [
    {
     "name": "stdout",
     "output_type": "stream",
     "text": [
      "el rmse entre la imagen query y el metodo es 4881.691731770833\n"
     ]
    }
   ],
   "source": [
    "rmse=rmse_manual(dataset[dataset[\"indice_main\"]==368][\"data_lista\"].iloc[0].reshape(3,32,32).transpose(1,2,0),dataset[dataset[\"indice_main\"]==278][\"data_lista\"].iloc[0].reshape(3,32,32).transpose(1,2,0))\n",
    "print(f\"el rmse entre la imagen query y el metodo es {rmse}\")"
   ]
  },
  {
   "cell_type": "code",
   "execution_count": 33,
   "metadata": {},
   "outputs": [
    {
     "name": "stdout",
     "output_type": "stream",
     "text": [
      "el rmse entre la imagen query y pixel es 10648.0849609375\n"
     ]
    }
   ],
   "source": [
    "rmse=rmse_manual(dataset[dataset[\"indice_main\"]==368][\"data_lista\"].iloc[0].reshape(3,32,32).transpose(1,2,0),dataset[dataset[\"indice_main\"]==1][\"data_lista\"].iloc[0].reshape(3,32,32).transpose(1,2,0))\n",
    "print(f\"el rmse entre la imagen query y pixel es {rmse}\")"
   ]
  },
  {
   "cell_type": "markdown",
   "metadata": {},
   "source": [
    "# Valores Query 4"
   ]
  },
  {
   "cell_type": "code",
   "execution_count": 34,
   "metadata": {},
   "outputs": [
    {
     "name": "stdout",
     "output_type": "stream",
     "text": [
      "el rmse entre la imagen query y el metodo es 22745.483723958332\n"
     ]
    }
   ],
   "source": [
    "rmse=rmse_manual(dataset[dataset[\"indice_main\"]==732][\"data_lista\"].iloc[0].reshape(3,32,32).transpose(1,2,0),dataset[dataset[\"indice_main\"]==711][\"data_lista\"].iloc[0].reshape(3,32,32).transpose(1,2,0))\n",
    "print(f\"el rmse entre la imagen query y el metodo es {rmse}\")"
   ]
  },
  {
   "cell_type": "code",
   "execution_count": 35,
   "metadata": {},
   "outputs": [
    {
     "name": "stdout",
     "output_type": "stream",
     "text": [
      "el rmse entre la imagen query y pixel es 24106.035481770832\n"
     ]
    }
   ],
   "source": [
    "rmse=rmse_manual(dataset[dataset[\"indice_main\"]==732][\"data_lista\"].iloc[0].reshape(3,32,32).transpose(1,2,0),dataset[dataset[\"indice_main\"]==677][\"data_lista\"].iloc[0].reshape(3,32,32).transpose(1,2,0))\n",
    "print(f\"el rmse entre la imagen query y pixel es {rmse}\")"
   ]
  }
 ],
 "metadata": {
  "kernelspec": {
   "display_name": "TFM_2",
   "language": "python",
   "name": "python3"
  },
  "language_info": {
   "codemirror_mode": {
    "name": "ipython",
    "version": 3
   },
   "file_extension": ".py",
   "mimetype": "text/x-python",
   "name": "python",
   "nbconvert_exporter": "python",
   "pygments_lexer": "ipython3",
   "version": "3.11.11"
  }
 },
 "nbformat": 4,
 "nbformat_minor": 2
}
